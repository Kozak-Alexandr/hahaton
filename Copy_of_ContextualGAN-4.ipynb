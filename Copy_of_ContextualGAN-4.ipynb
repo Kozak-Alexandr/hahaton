{
  "cells": [
    {
      "cell_type": "code",
      "execution_count": 1,
      "metadata": {
        "colab": {
          "base_uri": "https://localhost:8080/"
        },
        "id": "fPPCw2LhIVbc",
        "outputId": "551f45dd-9fe8-48d4-9c55-9cc867529d4b"
      },
      "outputs": [
        {
          "output_type": "stream",
          "name": "stdout",
          "text": [
            "\u001b[31mERROR: Could not open requirements file: [Errno 2] No such file or directory: 'requirements.txt'\u001b[0m\u001b[31m\n",
            "\u001b[0m"
          ]
        }
      ],
      "source": [
        "!pip install -r requirements.txt"
      ]
    },
    {
      "cell_type": "code",
      "execution_count": 2,
      "metadata": {
        "colab": {
          "base_uri": "https://localhost:8080/"
        },
        "id": "H6c96N4DKhW3",
        "outputId": "39b528c1-4d01-407a-b876-6d5203b8e43d"
      },
      "outputs": [
        {
          "output_type": "stream",
          "name": "stdout",
          "text": [
            "Collecting git+https://www.github.com/keras-team/keras-contrib.git\n",
            "  Cloning https://www.github.com/keras-team/keras-contrib.git to /tmp/pip-req-build-9vvkj8w6\n",
            "  Running command git clone --filter=blob:none --quiet https://www.github.com/keras-team/keras-contrib.git /tmp/pip-req-build-9vvkj8w6\n",
            "  warning: redirecting to https://github.com/keras-team/keras-contrib.git/\n",
            "  Resolved https://www.github.com/keras-team/keras-contrib.git to commit 3fc5ef709e061416f4bc8a92ca3750c824b5d2b0\n",
            "  Preparing metadata (setup.py) ... \u001b[?25l\u001b[?25hdone\n",
            "Requirement already satisfied: keras in /usr/local/lib/python3.10/dist-packages (from keras-contrib==2.0.8) (2.12.0)\n",
            "Building wheels for collected packages: keras-contrib\n",
            "  Building wheel for keras-contrib (setup.py) ... \u001b[?25l\u001b[?25hdone\n",
            "  Created wheel for keras-contrib: filename=keras_contrib-2.0.8-py3-none-any.whl size=101055 sha256=9df503260e4c1104a2ade6e5cd0af2f6520e1b8ccc371d71869c86ee8d855a9c\n",
            "  Stored in directory: /tmp/pip-ephem-wheel-cache-ydx2mow5/wheels/74/d5/f7/0245af7ac33d5b0c2e095688649916e4bf9a8d6b3362a849f5\n",
            "Successfully built keras-contrib\n",
            "Installing collected packages: keras-contrib\n",
            "Successfully installed keras-contrib-2.0.8\n"
          ]
        }
      ],
      "source": [
        "!pip install git+https://www.github.com/keras-team/keras-contrib.git"
      ]
    },
    {
      "cell_type": "code",
      "execution_count": 3,
      "metadata": {
        "id": "k6BlrFNDK287"
      },
      "outputs": [],
      "source": [
        "from keras.layers import ELU, PReLU, LeakyReLU"
      ]
    },
    {
      "cell_type": "code",
      "execution_count": 4,
      "metadata": {
        "colab": {
          "base_uri": "https://localhost:8080/"
        },
        "id": "NeBTLGBuI-mh",
        "outputId": "0ac40e2e-0281-43b6-9029-4b8242955c30"
      },
      "outputs": [
        {
          "output_type": "stream",
          "name": "stdout",
          "text": [
            "[Errno 2] No such file or directory: 'keras-contrib'\n",
            "/content\n"
          ]
        }
      ],
      "source": [
        "cd keras-contrib"
      ]
    },
    {
      "cell_type": "markdown",
      "metadata": {
        "id": "w6pY1YBdIU-z"
      },
      "source": []
    },
    {
      "cell_type": "code",
      "execution_count": 97,
      "metadata": {
        "id": "X6mSIwihIMyt"
      },
      "outputs": [],
      "source": [
        "from __future__ import print_function, division\n",
        "\n",
        "from keras_contrib.layers.normalization.instancenormalization import InstanceNormalization\n",
        "from keras.layers import Input, Dense, Reshape, Flatten, Dropout, Concatenate, BatchNormalization, Activation, ZeroPadding2D\n",
        "from keras.layers import LeakyReLU\n",
        "from keras.layers import UpSampling2D, Conv2D, Conv2DTranspose\n",
        "from keras.models import Sequential, Model\n",
        "from keras.optimizers import Adam\n",
        "\n",
        "from tensorflow.keras.preprocessing.image import img_to_array\n",
        "from tensorflow.keras.preprocessing.image import load_img\n",
        "\n",
        "from sklearn.utils import shuffle\n",
        "import matplotlib.pyplot as plt\n",
        "import numpy as np\n",
        "import datetime\n",
        "import natsort\n",
        "import scipy\n",
        "import sys\n",
        "import os\n",
        "import cv2"
      ]
    },
    {
      "cell_type": "markdown",
      "metadata": {
        "id": "5gQWT2hWIMyw"
      },
      "source": [
        "## Helper Function"
      ]
    },
    {
      "cell_type": "code",
      "execution_count": 6,
      "metadata": {
        "id": "W6IGwIEJIMyy"
      },
      "outputs": [],
      "source": [
        "def load_filename(path):\n",
        "    dirFiles = os.listdir(path)\n",
        "    for i, file in enumerate(dirFiles):\n",
        "        dirFiles[i] = path + file\n",
        "    return natsort.natsorted(dirFiles ,reverse=False)\n",
        "\n",
        "# load all images in a directory into memory\n",
        "def load_images(list_path, size=(128, 128)):\n",
        "    img_list = list()\n",
        "    # enumerate filenames in directory, assume all are images\n",
        "    for filename in list_path:\n",
        "        # load and resize the image\n",
        "        pixels = load_img(filename, target_size=size)\n",
        "        # convert to numpy array\n",
        "        pixels = img_to_array(pixels)\n",
        "        pixels = (pixels - 127.5) / 127.5\n",
        "        img_list.append(pixels)\n",
        "    return np.asarray(img_list)"
      ]
    },
    {
      "cell_type": "code",
      "execution_count": 7,
      "metadata": {
        "id": "zhQCdOm2IMy0"
      },
      "outputs": [],
      "source": [
        "# select a batch of random samples, returns images and target\n",
        "def generate_real_samples(dataset, n_samples, patch_shape):\n",
        "    # unpack dataset\n",
        "    trainA, trainB = dataset\n",
        "\n",
        "    # choose random instances\n",
        "    ix = np.random.randint(0, trainA.shape[0], n_samples)\n",
        "\n",
        "    # retrieve selected images\n",
        "    X1, X2 = trainA[ix], trainB[ix]\n",
        "\n",
        "    # generate 'real' class labels (1)\n",
        "    y = np.ones((n_samples, patch_shape, patch_shape, 1))\n",
        "\n",
        "    return [X1, X2], y\n",
        "\n",
        "# generate a batch of images, returns images and targets\n",
        "def generate_fake_samples(g_model, samples, patch_shape):\n",
        "    # generate fake instance\n",
        "    print(\"generate fake instance, samples.shape: \", samples.shape)\n",
        "    X = g_model.predict(samples)\n",
        "\n",
        "    # create 'fake' class labels (0)\n",
        "    y = np.zeros((len(X), patch_shape, patch_shape, 1))\n",
        "\n",
        "    return X, y"
      ]
    },
    {
      "cell_type": "code",
      "execution_count": 8,
      "metadata": {
        "id": "2rypCsLWIMy2"
      },
      "outputs": [],
      "source": [
        "# generate samples and save as a plot and save the model\n",
        "def summarize_performance(step, g_model, d_model, dataset, target_dir='', n_samples=3):\n",
        "    # select a sample of input images\n",
        "    [X_realA, X_realB], _ = generate_real_samples(dataset, n_samples, 1)\n",
        "    # generate a batch of fake samples\n",
        "    X_fakeB, _ = generate_fake_samples(g_model, X_realA, 1)\n",
        "    # scale all pixels from [-1,1] to [0,1]\n",
        "    X_realA = (X_realA + 1) / 2.0\n",
        "    X_realB = (X_realB + 1) / 2.0\n",
        "    X_fakeB = (X_fakeB + 1) / 2.0\n",
        "    # plot real source images\n",
        "    for i in range(n_samples):\n",
        "        plt.subplot(3, n_samples, 1 + i)\n",
        "        plt.axis('off')\n",
        "        plt.imshow(X_realA[i])\n",
        "    # plot generated target image\n",
        "    for i in range(n_samples):\n",
        "        plt.subplot(3, n_samples, 1 + n_samples + i)\n",
        "        plt.axis('off')\n",
        "        plt.imshow(X_fakeB[i])\n",
        "    # plot real target image\n",
        "    for i in range(n_samples):\n",
        "        plt.subplot(3, n_samples, 1 + n_samples*2 + i)\n",
        "        plt.axis('off')\n",
        "        plt.imshow(X_realB[i])\n",
        "    # save plot to file\n",
        "    filename1 = 'plot_%06d.png' % (step+1)\n",
        "    plt.savefig(target_dir + filename1)\n",
        "    plt.close()\n",
        "    # save the generator model\n",
        "    g_model.save(target_dir + 'g_model.h5')\n",
        "\n",
        "    # save the discriminator model\n",
        "    d_model.save(target_dir + 'd_model.h5')\n",
        "\n",
        "    print('>Saved: %s and %s' % (filename1, 'g_model & d_model'))"
      ]
    },
    {
      "cell_type": "markdown",
      "metadata": {
        "id": "ndn86RdIIMy3"
      },
      "source": [
        "## Generator"
      ]
    },
    {
      "cell_type": "code",
      "execution_count": 9,
      "metadata": {
        "id": "xwaFoIqbIMy3"
      },
      "outputs": [],
      "source": [
        "def generator(img_shape):\n",
        "    def conv2d(layer_in, n_filter, norm=True):\n",
        "        d = Conv2D(n_filter, kernel_size=4, strides=2, padding='SAME')(layer_in)\n",
        "        d = LeakyReLU(0.2)(d)\n",
        "        if norm:\n",
        "            d = InstanceNormalization()(d)\n",
        "        return d\n",
        "\n",
        "    def deconv2d(layer_in, skip_in, n_filter, dropout=0.5):\n",
        "        d = UpSampling2D(size=2)(layer_in)\n",
        "        d = Conv2D(n_filter, kernel_size=4, strides=1, padding='same', activation='relu')(d)\n",
        "        if dropout:\n",
        "            d = Dropout(dropout)(d)\n",
        "        d = InstanceNormalization()(d)\n",
        "        d = Concatenate()([d, skip_in])\n",
        "        return d\n",
        "\n",
        "\n",
        "\n",
        "    # Input Layer\n",
        "    in_img = Input(shape=img_shape)\n",
        "\n",
        "    # Downsampling\n",
        "    print(\"\\n______GENERATOR______:\\n \", in_img.shape)\n",
        "    d1 = conv2d(in_img, 64, norm=False)\n",
        "    d2 = conv2d(d1, 128)\n",
        "    d3 = conv2d(d2, 256)\n",
        "    d4 = conv2d(d3, 512)\n",
        "    d5 = conv2d(d4, 512)\n",
        "    d6 = conv2d(d5, 512)\n",
        "    d7 = conv2d(d6, 512)\n",
        "\n",
        "    # Upsampling\n",
        "    u1 = deconv2d(d7, d6, 512)\n",
        "    # print(u1.shape, d5.shape)\n",
        "    u2 = deconv2d(u1, d5, 512)\n",
        "    u3 = deconv2d(u2, d4, 512)\n",
        "    u4 = deconv2d(u3, d3, 256, dropout=0)\n",
        "    u5 = deconv2d(u4, d2, 128, dropout=0)\n",
        "    u6 = deconv2d(u5, d1, 64, dropout=0)\n",
        "    u7 = UpSampling2D(size=2)(u6)\n",
        "\n",
        "    out_img = Conv2D(1, kernel_size=4, strides=1, padding='same', activation='tanh')(u7)\n",
        "\n",
        "    return Model(in_img, out_img, name='generator')"
      ]
    },
    {
      "cell_type": "markdown",
      "metadata": {
        "id": "4mWSRIomIMy4"
      },
      "source": [
        "## Discriminator"
      ]
    },
    {
      "cell_type": "code",
      "execution_count": 22,
      "metadata": {
        "id": "CwgAvWjFIMy5"
      },
      "outputs": [],
      "source": [
        "def discriminator(img_shape):\n",
        "    print(\"\\n\\n\\nHERE: img_shape is:\", img_shape)\n",
        "    def d_layer(layer_in, n_filter, norm=True):\n",
        "        d = Conv2D(n_filter, kernel_size=4, strides=2, padding='same')(layer_in)\n",
        "        d = LeakyReLU(0.2)(d)\n",
        "        if norm:\n",
        "            d = InstanceNormalization()(d)\n",
        "        return d\n",
        "\n",
        "    # in_src_img = Input(shape=img_shape)\n",
        "    in_src_img = Input(shape=img_shape)\n",
        "    in_target_img = Input(shape=img_shape)\n",
        "    print(\"in_src_img.shape = \", in_src_img.shape, \"in_target_img.shape = \", in_target_img.shape)\n",
        "    merged = Concatenate()([in_src_img, in_target_img])\n",
        "    print(\"merged.shape is \", merged.shape)\n",
        "\n",
        "    d1 = d_layer(merged, 64, norm=False)\n",
        "    d2 = d_layer(d1, 128)\n",
        "    d3 = d_layer(d1, 256)\n",
        "    d4 = d_layer(d1, 512)\n",
        "    print('d4.shape = ', d4.shape)\n",
        "\n",
        "    out = Conv2D(1, kernel_size=4, strides=1, padding='same', name=\"OLOLO\")(d4)\n",
        "\n",
        "    return Model([in_src_img, in_target_img], out, name='discriminator')"
      ]
    },
    {
      "cell_type": "markdown",
      "metadata": {
        "id": "NCegp4pNIMy5"
      },
      "source": [
        "## GAN"
      ]
    },
    {
      "cell_type": "code",
      "execution_count": 11,
      "metadata": {
        "id": "ex7Zki-VIMy6"
      },
      "outputs": [],
      "source": [
        "def GAN(g_model, d_model, img_shape):\n",
        "    d_model.trainable = False\n",
        "    in_img = Input(shape=img_shape)\n",
        "    gen_out = g_model(in_img)\n",
        "    print(\"in_img.shape = \", in_img.shape, \"gen_out.shape = \", gen_out.shape)\n",
        "    dis_out = d_model([in_img, gen_out])\n",
        "    model = Model(in_img, [dis_out, gen_out], name='GAN')\n",
        "    return model"
      ]
    },
    {
      "cell_type": "markdown",
      "source": [],
      "metadata": {
        "id": "OwqM6t3mFqPc"
      }
    },
    {
      "cell_type": "markdown",
      "metadata": {
        "id": "-XzsAEnwIMy7"
      },
      "source": [
        "## Train GAN model"
      ]
    },
    {
      "cell_type": "code",
      "execution_count": 70,
      "metadata": {
        "id": "ILXgp7qgIMy7"
      },
      "outputs": [],
      "source": [
        "def train(d_model, g_model, gan_model, data, target_dir, n_epochs=100, n_batch=16):\n",
        "    # determine the output square shape of the discriminator\n",
        "    n_patch = d_model.output_shape[1]\n",
        "\n",
        "    blue_photo = data[0]\n",
        "    blue_sketch = data[1]\n",
        "\n",
        "    for i in range(n_epochs):\n",
        "        print(' ========== Epoch', i+1, '========== ')\n",
        "\n",
        "        blue_photo, blue_sketch = shuffle(blue_photo, blue_sketch)\n",
        "\n",
        "        for j in range(int(len(blue_photo)/n_batch)):\n",
        "\n",
        "            start = int(j*n_batch)\n",
        "            end = int(min(len(blue_photo), (j*n_batch)+n_batch))\n",
        "\n",
        "            dataset = [load_images(blue_photo[start:end]), load_images(blue_sketch[start:end])]\n",
        "\n",
        "            # select a batch of real samples\n",
        "            print(\"select a batch of real samples\")\n",
        "            [X_realB, X_realA], y_real = generate_real_samples(dataset, n_batch, n_patch)\n",
        "            # ИСПРАВЛЕНО !\n",
        "\n",
        "            # generate a batch of fake samples\n",
        "            X_realA = tf.reduce_mean(X_realA, axis=3)\n",
        "            X_realA = X_realA[:, :, :, tf.newaxis]\n",
        "            print(\"generate a batch of fake samples: X_realA.shape: \", X_realA.shape, \"X_realB.shape is\", X_realB.shape, \"\\n\")\n",
        "            X_fakeB, y_fake = generate_fake_samples(g_model, X_realA, n_patch)\n",
        "\n",
        "            # update discriminator for generated samples\n",
        "            print(\"update discriminator for generated samples\")\n",
        "            d_loss = d_model.train_on_batch([X_realA, X_fakeB], y_fake)\n",
        "\n",
        "            # update the generator\n",
        "            print(\"update the generator\")\n",
        "            g_loss, _, _ = gan_model.train_on_batch(X_realA, [y_real, X_realB])\n",
        "\n",
        "            # summarize performance\n",
        "            print('Batch : %d, D Loss : %.3f | G Loss : %.3f' % (j+1, d_loss, g_loss))\n",
        "            # if j > 15:\n",
        "            #   break\n",
        "\n",
        "        # summarize model performance\n",
        "        summarize_performance(i, g_model, d_model, dataset, target_dir)"
      ]
    },
    {
      "cell_type": "markdown",
      "metadata": {
        "id": "0gx7xpqkIMy8"
      },
      "source": [
        "## Loss Function"
      ]
    },
    {
      "cell_type": "code",
      "execution_count": 92,
      "metadata": {
        "id": "ZxSAc9V_IMy8"
      },
      "outputs": [],
      "source": [
        "import tensorflow as tf\n",
        "import keras.backend as K\n",
        "from keras.losses import mean_absolute_error\n",
        "\n",
        "def pixel_loss(y_true, y_pred):\n",
        "    return K.mean(K.abs(y_true - y_pred))\n",
        "\n",
        "def contextual_loss (y_true, y_pred):\n",
        "    a = tf.image.rgb_to_grayscale(tf.slice(\n",
        "                                y_pred,\n",
        "                                [0,0,0,0],\n",
        "                                [16, 128, 128, 1]))\n",
        "\n",
        "    b = tf.image.rgb_to_grayscale(tf.slice(\n",
        "                                y_true,\n",
        "                                [0,0,0,0],\n",
        "                                [16, 128, 128, 1]))\n",
        "\n",
        "    y_pred = tf.divide(tf.add(tf.reshape(a, [tf.shape(a)[0], -1]), 1), 2)\n",
        "    y_true = tf.divide(tf.add(tf.reshape(b, [tf.shape(b)[0], -1]), 1), 2)\n",
        "\n",
        "#     tf.assert_rank(y_true,2)\n",
        "#     tf.assert_rank(y_pred,2)\n",
        "\n",
        "    p_shape = tf.shape(y_true)\n",
        "    q_shape = tf.shape(y_pred)\n",
        "#     tf.assert_equal(p_shape, q_shape)\n",
        "\n",
        "    # normalize sum to 1\n",
        "    p_ = tf.divide(y_true, tf.tile(tf.expand_dims(tf.reduce_sum(y_true, axis=1), 1), [1,p_shape[1]]))\n",
        "    q_ = tf.divide(y_pred, tf.tile(tf.expand_dims(tf.reduce_sum(y_pred, axis=1), 1), [1,p_shape[1]]))\n",
        "\n",
        "    return tf.reduce_sum(tf.multiply(p_, tf.math.log(tf.divide(p_, q_))), axis=1)\n",
        "\n",
        "def total_loss (y_true, y_pred):\n",
        "\n",
        "    px_loss = pixel_loss(y_true, y_pred)\n",
        "\n",
        "    return px_loss"
      ]
    },
    {
      "cell_type": "code",
      "execution_count": 15,
      "metadata": {
        "colab": {
          "base_uri": "https://localhost:8080/"
        },
        "id": "UlSQQzkdkEft",
        "outputId": "20b53a4d-7cf0-4154-8d00-ec785ac83663"
      },
      "outputs": [
        {
          "output_type": "stream",
          "name": "stdout",
          "text": [
            "Mounted at /content/drive\n"
          ]
        }
      ],
      "source": [
        "from google.colab import drive\n",
        "drive.mount('/content/drive')"
      ]
    },
    {
      "cell_type": "markdown",
      "metadata": {
        "id": "lzAP-98QIMy8"
      },
      "source": [
        "## Load Dataset"
      ]
    },
    {
      "cell_type": "code",
      "execution_count": 53,
      "metadata": {
        "id": "tgMdTlPWFigy"
      },
      "outputs": [],
      "source": [
        "# SKETCH\n",
        "b_photo_path = '/content/drive/MyDrive/Training_data_17.09.2023/Full_Training-sketches/'\n",
        "# EMOJI\n",
        "b_sketch_path = '/content/drive/MyDrive/Training_data_17.09.2023/Training-emojis/'\n",
        "\n",
        "\n",
        "blue_photo = load_filename(b_photo_path)\n",
        "blue_sketch = load_filename(b_sketch_path)"
      ]
    },
    {
      "cell_type": "code",
      "execution_count": 169,
      "metadata": {
        "colab": {
          "base_uri": "https://localhost:8080/",
          "height": 450
        },
        "id": "TC8dK7DrIMy9",
        "outputId": "f2dd89aa-4993-4792-e6de-8ad7835cd4fa",
        "scrolled": true
      },
      "outputs": [
        {
          "output_type": "execute_result",
          "data": {
            "text/plain": [
              "<matplotlib.image.AxesImage at 0x7c0e3b174ac0>"
            ]
          },
          "metadata": {},
          "execution_count": 169
        },
        {
          "output_type": "display_data",
          "data": {
            "text/plain": [
              "<Figure size 640x480 with 1 Axes>"
            ],
            "image/png": "[encoded data removed]"
          },
          "metadata": {}
        }
      ],
      "source": [
        "plt.imshow(cv2.cvtColor(cv2.imread(blue_photo[87]).astype('uint8'), cv2.COLOR_BGR2RGB))"
      ]
    },
    {
      "cell_type": "code",
      "execution_count": 170,
      "metadata": {
        "colab": {
          "base_uri": "https://localhost:8080/",
          "height": 450
        },
        "id": "H36vGxmYIMy9",
        "outputId": "7ba98679-d01f-46c3-fc94-58819d850d71"
      },
      "outputs": [
        {
          "output_type": "execute_result",
          "data": {
            "text/plain": [
              "<matplotlib.image.AxesImage at 0x7c0e3b282410>"
            ]
          },
          "metadata": {},
          "execution_count": 170
        },
        {
          "output_type": "display_data",
          "data": {
            "text/plain": [
              "<Figure size 640x480 with 1 Axes>"
            ],
            "image/png": "[encoded data removed]"
          },
          "metadata": {}
        }
      ],
      "source": [
        "plt.imshow(cv2.cvtColor(cv2.imread(blue_sketch[87]).astype('uint8'), cv2.COLOR_BGR2RGB))"
      ]
    },
    {
      "cell_type": "markdown",
      "metadata": {
        "id": "ObYwYGz7IMy9"
      },
      "source": [
        "**## Define GAN Model**\n",
        "\n",
        "> Блок с отступами\n",
        "\n"
      ]
    },
    {
      "cell_type": "code",
      "execution_count": 54,
      "metadata": {
        "id": "p2z_qKXvIMy9",
        "scrolled": false,
        "colab": {
          "base_uri": "https://localhost:8080/"
        },
        "outputId": "b9e9bf1d-f723-4088-f993-ae45ac1b7f6c"
      },
      "outputs": [
        {
          "output_type": "stream",
          "name": "stdout",
          "text": [
            "\n",
            "______GENERATOR______:\n",
            "  (None, 128, 128, 1)\n",
            "---------Deconv2d---------:\n",
            " layer_in.shape =  (None, 1, 1, 512) , skip_in.shape =  (None, 2, 2, 512) \n",
            "\n",
            "Upsampling: d.shape =  (None, 2, 2, 512)\n",
            "Upsampling -> conv2d: d.shape =  (None, 2, 2, 512)\n",
            "---------Deconv2d---------:\n",
            " layer_in.shape =  (None, 2, 2, 1024) , skip_in.shape =  (None, 4, 4, 512) \n",
            "\n",
            "Upsampling: d.shape =  (None, 4, 4, 1024)\n",
            "Upsampling -> conv2d: d.shape =  (None, 4, 4, 512)\n",
            "---------Deconv2d---------:\n",
            " layer_in.shape =  (None, 4, 4, 1024) , skip_in.shape =  (None, 8, 8, 512) \n",
            "\n",
            "Upsampling: d.shape =  (None, 8, 8, 1024)\n",
            "Upsampling -> conv2d: d.shape =  (None, 8, 8, 512)\n",
            "---------Deconv2d---------:\n",
            " layer_in.shape =  (None, 8, 8, 1024) , skip_in.shape =  (None, 16, 16, 256) \n",
            "\n",
            "Upsampling: d.shape =  (None, 16, 16, 1024)\n",
            "Upsampling -> conv2d: d.shape =  (None, 16, 16, 256)\n",
            "---------Deconv2d---------:\n",
            " layer_in.shape =  (None, 16, 16, 512) , skip_in.shape =  (None, 32, 32, 128) \n",
            "\n",
            "Upsampling: d.shape =  (None, 32, 32, 512)\n",
            "Upsampling -> conv2d: d.shape =  (None, 32, 32, 128)\n",
            "---------Deconv2d---------:\n",
            " layer_in.shape =  (None, 32, 32, 256) , skip_in.shape =  (None, 64, 64, 64) \n",
            "\n",
            "Upsampling: d.shape =  (None, 64, 64, 256)\n",
            "Upsampling -> conv2d: d.shape =  (None, 64, 64, 64)\n",
            "\n",
            "\n",
            "\n",
            "HERE: img_shape is: (128, 128, 1)\n",
            "in_src_img.shape =  (None, 128, 128, 1) in_target_img.shape =  (None, 128, 128, 1)\n",
            "merged.shape is  (None, 128, 128, 2)\n",
            "d4.shape =  (None, 32, 32, 512)\n",
            "in_img.shape =  (None, 128, 128, 1) gen_out.shape =  (None, 128, 128, 1)\n"
          ]
        }
      ],
      "source": [
        "img_shape = (128, 128, 1)\n",
        "\n",
        "g_model = generator(img_shape)\n",
        "\n",
        "d_model = discriminator(img_shape)\n",
        "\n",
        "gan_model = GAN(g_model, d_model, img_shape)"
      ]
    },
    {
      "cell_type": "code",
      "execution_count": 55,
      "metadata": {
        "colab": {
          "base_uri": "https://localhost:8080/"
        },
        "id": "6bBMrI_IIMy-",
        "outputId": "c65ab9b6-c72b-4737-b089-070ac4113530",
        "scrolled": true
      },
      "outputs": [
        {
          "output_type": "stream",
          "name": "stdout",
          "text": [
            "Model: \"GAN\"\n",
            "__________________________________________________________________________________________________\n",
            " Layer (type)                   Output Shape         Param #     Connected to                     \n",
            "==================================================================================================\n",
            " input_16 (InputLayer)          [(None, 128, 128, 1  0           []                               \n",
            "                                )]                                                                \n",
            "                                                                                                  \n",
            " generator (Functional)         (None, 128, 128, 1)  41819545    ['input_16[0][0]']               \n",
            "                                                                                                  \n",
            " discriminator (Functional)     (None, 32, 32, 1)    535107      ['input_16[0][0]',               \n",
            "                                                                  'generator[0][0]']              \n",
            "                                                                                                  \n",
            "==================================================================================================\n",
            "Total params: 42,354,652\n",
            "Trainable params: 41,819,545\n",
            "Non-trainable params: 535,107\n",
            "__________________________________________________________________________________________________\n"
          ]
        }
      ],
      "source": [
        "gan_model.summary()"
      ]
    },
    {
      "cell_type": "code",
      "execution_count": 93,
      "metadata": {
        "id": "r-8ooNLcIMy-",
        "scrolled": true
      },
      "outputs": [],
      "source": [
        "opt = Adam(learning_rate=2e-4, beta_1=0.5)\n",
        "\n",
        "d_model.compile(loss='binary_crossentropy', optimizer=opt, loss_weights=[0.5])\n",
        "gan_model.compile(loss=['binary_crossentropy', total_loss], optimizer=opt, loss_weights=[1,100])"
      ]
    },
    {
      "cell_type": "markdown",
      "metadata": {
        "id": "BzNnlXQTIMy-"
      },
      "source": [
        "## Start Training"
      ]
    },
    {
      "cell_type": "code",
      "execution_count": 94,
      "metadata": {
        "colab": {
          "base_uri": "https://localhost:8080/",
          "height": 1000
        },
        "id": "wO6svnOjIMy-",
        "outputId": "049ee595-651e-4305-f103-af6dc72eef85",
        "scrolled": true
      },
      "outputs": [
        {
          "metadata": {
            "tags": null
          },
          "name": "stdout",
          "output_type": "stream",
          "text": [
            " ========== Epoch 1 ========== \n"
          ]
        },
        {
          "metadata": {
            "tags": null
          },
          "name": "stderr",
          "output_type": "stream",
          "text": [
            "/usr/local/lib/python3.10/dist-packages/PIL/Image.py:996: UserWarning: Palette images with Transparency expressed in bytes should be converted to RGBA images\n",
            "  warnings.warn(\n"
          ]
        },
        {
          "metadata": {
            "tags": null
          },
          "name": "stdout",
          "output_type": "stream",
          "text": [
            "select a batch of real samples\n",
            "generate a batch of fake samples: X_realA.shape:  (16, 128, 128, 1) X_realB.shape is (16, 128, 128, 3) \n",
            "\n",
            "generate fake instance, samples.shape:  (16, 128, 128, 1)\n",
            "1/1 [==============================] - 3s 3s/step\n",
            "update discriminator for generated samples\n",
            "update the generator\n",
            "X_realAa.shape is  (16, 128, 128, 3) X_realB.shape is  (16, 128, 128, 3) y_real.shape is  (16, 32, 32, 1)\n"
          ]
        },
        {
          "metadata": {
            "tags": null
          },
          "name": "stderr",
          "output_type": "stream",
          "text": [
            "WARNING:tensorflow:5 out of the last 12 calls to <function Model.make_train_function.<locals>.train_function at 0x7ab345843910> triggered tf.function retracing. Tracing is expensive and the excessive number of tracings could be due to (1) creating @tf.function repeatedly in a loop, (2) passing tensors with different shapes, (3) passing Python objects instead of tensors. For (1), please define your @tf.function outside of the loop. For (2), @tf.function has reduce_retracing=True option that can avoid unnecessary retracing. For (3), please refer to https://www.tensorflow.org/guide/function#controlling_retracing and https://www.tensorflow.org/api_docs/python/tf/function for  more details.\n"
          ]
        },
        {
          "output_type": "stream",
          "name": "stdout",
          "text": [
            "Batch : 1, D Loss : 1.227 | G Loss : 73.932\n",
            "select a batch of real samples\n",
            "generate a batch of fake samples: X_realA.shape:  (16, 128, 128, 1) X_realB.shape is (16, 128, 128, 3) \n",
            "\n",
            "generate fake instance, samples.shape:  (16, 128, 128, 1)\n",
            "1/1 [==============================] - 3s 3s/step\n",
            "update discriminator for generated samples\n",
            "update the generator\n",
            "X_realAa.shape is  (16, 128, 128, 3) X_realB.shape is  (16, 128, 128, 3) y_real.shape is  (16, 32, 32, 1)\n",
            "Batch : 2, D Loss : 1.679 | G Loss : 90.100\n",
            "select a batch of real samples\n",
            "generate a batch of fake samples: X_realA.shape:  (16, 128, 128, 1) X_realB.shape is (16, 128, 128, 3) \n",
            "\n",
            "generate fake instance, samples.shape:  (16, 128, 128, 1)\n",
            "1/1 [==============================] - 5s 5s/step\n",
            "update discriminator for generated samples\n",
            "update the generator\n",
            "X_realAa.shape is  (16, 128, 128, 3) X_realB.shape is  (16, 128, 128, 3) y_real.shape is  (16, 32, 32, 1)\n",
            "Batch : 3, D Loss : 1.799 | G Loss : 77.846\n",
            "select a batch of real samples\n",
            "generate a batch of fake samples: X_realA.shape:  (16, 128, 128, 1) X_realB.shape is (16, 128, 128, 3) \n",
            "\n",
            "generate fake instance, samples.shape:  (16, 128, 128, 1)\n",
            "1/1 [==============================] - 3s 3s/step\n",
            "update discriminator for generated samples\n",
            "update the generator\n",
            "X_realAa.shape is  (16, 128, 128, 3) X_realB.shape is  (16, 128, 128, 3) y_real.shape is  (16, 32, 32, 1)\n",
            "Batch : 4, D Loss : 1.824 | G Loss : 83.774\n",
            "select a batch of real samples\n",
            "generate a batch of fake samples: X_realA.shape:  (16, 128, 128, 1) X_realB.shape is (16, 128, 128, 3) \n",
            "\n",
            "generate fake instance, samples.shape:  (16, 128, 128, 1)\n",
            "1/1 [==============================] - 5s 5s/step\n",
            "update discriminator for generated samples\n",
            "update the generator\n",
            "X_realAa.shape is  (16, 128, 128, 3) X_realB.shape is  (16, 128, 128, 3) y_real.shape is  (16, 32, 32, 1)\n",
            "Batch : 5, D Loss : 1.115 | G Loss : 73.900\n",
            "select a batch of real samples\n",
            "generate a batch of fake samples: X_realA.shape:  (16, 128, 128, 1) X_realB.shape is (16, 128, 128, 3) \n",
            "\n",
            "generate fake instance, samples.shape:  (16, 128, 128, 1)\n",
            "1/1 [==============================] - 3s 3s/step\n",
            "update discriminator for generated samples\n",
            "update the generator\n",
            "X_realAa.shape is  (16, 128, 128, 3) X_realB.shape is  (16, 128, 128, 3) y_real.shape is  (16, 32, 32, 1)\n",
            "Batch : 6, D Loss : 1.587 | G Loss : 58.364\n",
            "select a batch of real samples\n",
            "generate a batch of fake samples: X_realA.shape:  (16, 128, 128, 1) X_realB.shape is (16, 128, 128, 3) \n",
            "\n",
            "generate fake instance, samples.shape:  (16, 128, 128, 1)\n",
            "1/1 [==============================] - 4s 4s/step\n",
            "update discriminator for generated samples\n",
            "update the generator\n",
            "X_realAa.shape is  (16, 128, 128, 3) X_realB.shape is  (16, 128, 128, 3) y_real.shape is  (16, 32, 32, 1)\n",
            "Batch : 7, D Loss : 1.333 | G Loss : 53.474\n",
            "select a batch of real samples\n",
            "generate a batch of fake samples: X_realA.shape:  (16, 128, 128, 1) X_realB.shape is (16, 128, 128, 3) \n",
            "\n",
            "generate fake instance, samples.shape:  (16, 128, 128, 1)\n",
            "1/1 [==============================] - 3s 3s/step\n",
            "update discriminator for generated samples\n",
            "update the generator\n",
            "X_realAa.shape is  (16, 128, 128, 3) X_realB.shape is  (16, 128, 128, 3) y_real.shape is  (16, 32, 32, 1)\n",
            "Batch : 8, D Loss : 1.800 | G Loss : 68.385\n",
            "select a batch of real samples\n",
            "generate a batch of fake samples: X_realA.shape:  (16, 128, 128, 1) X_realB.shape is (16, 128, 128, 3) \n",
            "\n",
            "generate fake instance, samples.shape:  (16, 128, 128, 1)\n",
            "1/1 [==============================] - 3s 3s/step\n",
            "update discriminator for generated samples\n",
            "update the generator\n",
            "X_realAa.shape is  (16, 128, 128, 3) X_realB.shape is  (16, 128, 128, 3) y_real.shape is  (16, 32, 32, 1)\n",
            "Batch : 9, D Loss : 1.101 | G Loss : 55.400\n",
            "select a batch of real samples\n",
            "generate a batch of fake samples: X_realA.shape:  (16, 128, 128, 1) X_realB.shape is (16, 128, 128, 3) \n",
            "\n",
            "generate fake instance, samples.shape:  (16, 128, 128, 1)\n",
            "1/1 [==============================] - 4s 4s/step\n",
            "update discriminator for generated samples\n",
            "update the generator\n",
            "X_realAa.shape is  (16, 128, 128, 3) X_realB.shape is  (16, 128, 128, 3) y_real.shape is  (16, 32, 32, 1)\n",
            "Batch : 10, D Loss : 1.485 | G Loss : 51.648\n",
            "select a batch of real samples\n",
            "generate a batch of fake samples: X_realA.shape:  (16, 128, 128, 1) X_realB.shape is (16, 128, 128, 3) \n",
            "\n",
            "generate fake instance, samples.shape:  (16, 128, 128, 1)\n",
            "1/1 [==============================] - 3s 3s/step\n",
            "update discriminator for generated samples\n",
            "update the generator\n",
            "X_realAa.shape is  (16, 128, 128, 3) X_realB.shape is  (16, 128, 128, 3) y_real.shape is  (16, 32, 32, 1)\n",
            "Batch : 11, D Loss : 1.074 | G Loss : 54.436\n",
            "select a batch of real samples\n",
            "generate a batch of fake samples: X_realA.shape:  (16, 128, 128, 1) X_realB.shape is (16, 128, 128, 3) \n",
            "\n",
            "generate fake instance, samples.shape:  (16, 128, 128, 1)\n",
            "1/1 [==============================] - 5s 5s/step\n",
            "update discriminator for generated samples\n",
            "update the generator\n",
            "X_realAa.shape is  (16, 128, 128, 3) X_realB.shape is  (16, 128, 128, 3) y_real.shape is  (16, 32, 32, 1)\n",
            "Batch : 12, D Loss : 1.094 | G Loss : 57.037\n",
            "select a batch of real samples\n",
            "generate a batch of fake samples: X_realA.shape:  (16, 128, 128, 1) X_realB.shape is (16, 128, 128, 3) \n",
            "\n",
            "generate fake instance, samples.shape:  (16, 128, 128, 1)\n",
            "1/1 [==============================] - 3s 3s/step\n",
            "update discriminator for generated samples\n",
            "update the generator\n",
            "X_realAa.shape is  (16, 128, 128, 3) X_realB.shape is  (16, 128, 128, 3) y_real.shape is  (16, 32, 32, 1)\n",
            "Batch : 13, D Loss : 1.407 | G Loss : 46.534\n",
            "select a batch of real samples\n",
            "generate a batch of fake samples: X_realA.shape:  (16, 128, 128, 1) X_realB.shape is (16, 128, 128, 3) \n",
            "\n",
            "generate fake instance, samples.shape:  (16, 128, 128, 1)\n",
            "1/1 [==============================] - 5s 5s/step\n",
            "update discriminator for generated samples\n",
            "update the generator\n",
            "X_realAa.shape is  (16, 128, 128, 3) X_realB.shape is  (16, 128, 128, 3) y_real.shape is  (16, 32, 32, 1)\n",
            "Batch : 14, D Loss : 1.204 | G Loss : 54.037\n",
            "select a batch of real samples\n",
            "generate a batch of fake samples: X_realA.shape:  (16, 128, 128, 1) X_realB.shape is (16, 128, 128, 3) \n",
            "\n",
            "generate fake instance, samples.shape:  (16, 128, 128, 1)\n",
            "1/1 [==============================] - 5s 5s/step\n",
            "update discriminator for generated samples\n",
            "update the generator\n",
            "X_realAa.shape is  (16, 128, 128, 3) X_realB.shape is  (16, 128, 128, 3) y_real.shape is  (16, 32, 32, 1)\n",
            "Batch : 15, D Loss : 1.357 | G Loss : 52.918\n",
            "select a batch of real samples\n",
            "generate a batch of fake samples: X_realA.shape:  (16, 128, 128, 1) X_realB.shape is (16, 128, 128, 3) \n",
            "\n",
            "generate fake instance, samples.shape:  (16, 128, 128, 1)\n",
            "1/1 [==============================] - 3s 3s/step\n",
            "update discriminator for generated samples\n",
            "update the generator\n",
            "X_realAa.shape is  (16, 128, 128, 3) X_realB.shape is  (16, 128, 128, 3) y_real.shape is  (16, 32, 32, 1)\n",
            "Batch : 16, D Loss : 1.111 | G Loss : 47.221\n",
            "select a batch of real samples\n",
            "generate a batch of fake samples: X_realA.shape:  (16, 128, 128, 1) X_realB.shape is (16, 128, 128, 3) \n",
            "\n",
            "generate fake instance, samples.shape:  (16, 128, 128, 1)\n",
            "1/1 [==============================] - 3s 3s/step\n",
            "update discriminator for generated samples\n",
            "update the generator\n",
            "X_realAa.shape is  (16, 128, 128, 3) X_realB.shape is  (16, 128, 128, 3) y_real.shape is  (16, 32, 32, 1)\n",
            "Batch : 17, D Loss : 1.367 | G Loss : 46.597\n",
            "select a batch of real samples\n",
            "generate a batch of fake samples: X_realA.shape:  (16, 128, 128, 1) X_realB.shape is (16, 128, 128, 3) \n",
            "\n",
            "generate fake instance, samples.shape:  (16, 128, 128, 1)\n",
            "1/1 [==============================] - 3s 3s/step\n",
            "update discriminator for generated samples\n",
            "update the generator\n",
            "X_realAa.shape is  (16, 128, 128, 3) X_realB.shape is  (16, 128, 128, 3) y_real.shape is  (16, 32, 32, 1)\n",
            "Batch : 18, D Loss : 1.141 | G Loss : 48.321\n",
            "select a batch of real samples\n",
            "generate a batch of fake samples: X_realA.shape:  (16, 128, 128, 1) X_realB.shape is (16, 128, 128, 3) \n",
            "\n",
            "generate fake instance, samples.shape:  (16, 128, 128, 1)\n",
            "1/1 [==============================] - 3s 3s/step\n",
            "update discriminator for generated samples\n",
            "update the generator\n",
            "X_realAa.shape is  (16, 128, 128, 3) X_realB.shape is  (16, 128, 128, 3) y_real.shape is  (16, 32, 32, 1)\n",
            "Batch : 19, D Loss : 1.588 | G Loss : 53.264\n",
            "select a batch of real samples\n",
            "generate a batch of fake samples: X_realA.shape:  (16, 128, 128, 1) X_realB.shape is (16, 128, 128, 3) \n",
            "\n",
            "generate fake instance, samples.shape:  (16, 128, 128, 1)\n",
            "1/1 [==============================] - 3s 3s/step\n",
            "update discriminator for generated samples\n",
            "update the generator\n",
            "X_realAa.shape is  (16, 128, 128, 3) X_realB.shape is  (16, 128, 128, 3) y_real.shape is  (16, 32, 32, 1)\n",
            "Batch : 20, D Loss : 1.261 | G Loss : 46.269\n",
            "select a batch of real samples\n",
            "generate a batch of fake samples: X_realA.shape:  (16, 128, 128, 1) X_realB.shape is (16, 128, 128, 3) \n",
            "\n",
            "generate fake instance, samples.shape:  (16, 128, 128, 1)\n",
            "1/1 [==============================] - 5s 5s/step\n",
            "update discriminator for generated samples\n",
            "update the generator\n",
            "X_realAa.shape is  (16, 128, 128, 3) X_realB.shape is  (16, 128, 128, 3) y_real.shape is  (16, 32, 32, 1)\n",
            "Batch : 21, D Loss : 0.908 | G Loss : 59.013\n",
            "select a batch of real samples\n",
            "generate a batch of fake samples: X_realA.shape:  (16, 128, 128, 1) X_realB.shape is (16, 128, 128, 3) \n",
            "\n",
            "generate fake instance, samples.shape:  (16, 128, 128, 1)\n",
            "1/1 [==============================] - 3s 3s/step\n",
            "update discriminator for generated samples\n",
            "update the generator\n",
            "X_realAa.shape is  (16, 128, 128, 3) X_realB.shape is  (16, 128, 128, 3) y_real.shape is  (16, 32, 32, 1)\n",
            "Batch : 22, D Loss : 1.364 | G Loss : 52.578\n",
            "select a batch of real samples\n",
            "generate a batch of fake samples: X_realA.shape:  (16, 128, 128, 1) X_realB.shape is (16, 128, 128, 3) \n",
            "\n",
            "generate fake instance, samples.shape:  (16, 128, 128, 1)\n",
            "1/1 [==============================] - 3s 3s/step\n",
            "update discriminator for generated samples\n",
            "update the generator\n",
            "X_realAa.shape is  (16, 128, 128, 3) X_realB.shape is  (16, 128, 128, 3) y_real.shape is  (16, 32, 32, 1)\n",
            "Batch : 23, D Loss : 1.203 | G Loss : 47.618\n",
            "select a batch of real samples\n",
            "generate a batch of fake samples: X_realA.shape:  (16, 128, 128, 1) X_realB.shape is (16, 128, 128, 3) \n",
            "\n",
            "generate fake instance, samples.shape:  (16, 128, 128, 1)\n",
            "1/1 [==============================] - 5s 5s/step\n",
            "update discriminator for generated samples\n",
            "update the generator\n",
            "X_realAa.shape is  (16, 128, 128, 3) X_realB.shape is  (16, 128, 128, 3) y_real.shape is  (16, 32, 32, 1)\n",
            "Batch : 24, D Loss : 1.175 | G Loss : 48.677\n",
            "select a batch of real samples\n",
            "generate a batch of fake samples: X_realA.shape:  (16, 128, 128, 1) X_realB.shape is (16, 128, 128, 3) \n",
            "\n",
            "generate fake instance, samples.shape:  (16, 128, 128, 1)\n",
            "1/1 [==============================] - 3s 3s/step\n",
            "update discriminator for generated samples\n",
            "update the generator\n",
            "X_realAa.shape is  (16, 128, 128, 3) X_realB.shape is  (16, 128, 128, 3) y_real.shape is  (16, 32, 32, 1)\n",
            "Batch : 25, D Loss : 1.202 | G Loss : 47.717\n",
            "select a batch of real samples\n",
            "generate a batch of fake samples: X_realA.shape:  (16, 128, 128, 1) X_realB.shape is (16, 128, 128, 3) \n",
            "\n",
            "generate fake instance, samples.shape:  (16, 128, 128, 1)\n",
            "1/1 [==============================] - 3s 3s/step\n",
            "update discriminator for generated samples\n",
            "update the generator\n",
            "X_realAa.shape is  (16, 128, 128, 3) X_realB.shape is  (16, 128, 128, 3) y_real.shape is  (16, 32, 32, 1)\n",
            "Batch : 26, D Loss : 1.109 | G Loss : 39.696\n",
            "select a batch of real samples\n",
            "generate a batch of fake samples: X_realA.shape:  (16, 128, 128, 1) X_realB.shape is (16, 128, 128, 3) \n",
            "\n",
            "generate fake instance, samples.shape:  (16, 128, 128, 1)\n",
            "1/1 [==============================] - 5s 5s/step\n",
            "update discriminator for generated samples\n",
            "update the generator\n",
            "X_realAa.shape is  (16, 128, 128, 3) X_realB.shape is  (16, 128, 128, 3) y_real.shape is  (16, 32, 32, 1)\n",
            "Batch : 27, D Loss : 1.156 | G Loss : 49.219\n",
            "select a batch of real samples\n",
            "generate a batch of fake samples: X_realA.shape:  (16, 128, 128, 1) X_realB.shape is (16, 128, 128, 3) \n",
            "\n",
            "generate fake instance, samples.shape:  (16, 128, 128, 1)\n",
            "1/1 [==============================] - 3s 3s/step\n",
            "update discriminator for generated samples\n",
            "update the generator\n",
            "X_realAa.shape is  (16, 128, 128, 3) X_realB.shape is  (16, 128, 128, 3) y_real.shape is  (16, 32, 32, 1)\n",
            "Batch : 28, D Loss : 1.059 | G Loss : 53.733\n",
            "select a batch of real samples\n",
            "generate a batch of fake samples: X_realA.shape:  (16, 128, 128, 1) X_realB.shape is (16, 128, 128, 3) \n",
            "\n",
            "generate fake instance, samples.shape:  (16, 128, 128, 1)\n",
            "1/1 [==============================] - 6s 6s/step\n",
            "update discriminator for generated samples\n",
            "update the generator\n",
            "X_realAa.shape is  (16, 128, 128, 3) X_realB.shape is  (16, 128, 128, 3) y_real.shape is  (16, 32, 32, 1)\n",
            "Batch : 29, D Loss : 1.364 | G Loss : 52.086\n",
            "select a batch of real samples\n",
            "generate a batch of fake samples: X_realA.shape:  (16, 128, 128, 1) X_realB.shape is (16, 128, 128, 3) \n",
            "\n",
            "generate fake instance, samples.shape:  (16, 128, 128, 1)\n",
            "1/1 [==============================] - 5s 5s/step\n",
            "update discriminator for generated samples\n",
            "update the generator\n",
            "X_realAa.shape is  (16, 128, 128, 3) X_realB.shape is  (16, 128, 128, 3) y_real.shape is  (16, 32, 32, 1)\n",
            "Batch : 30, D Loss : 1.455 | G Loss : 49.769\n",
            "select a batch of real samples\n",
            "generate a batch of fake samples: X_realA.shape:  (16, 128, 128, 1) X_realB.shape is (16, 128, 128, 3) \n",
            "\n",
            "generate fake instance, samples.shape:  (16, 128, 128, 1)\n",
            "1/1 [==============================] - 4s 4s/step\n",
            "update discriminator for generated samples\n",
            "update the generator\n",
            "X_realAa.shape is  (16, 128, 128, 3) X_realB.shape is  (16, 128, 128, 3) y_real.shape is  (16, 32, 32, 1)\n",
            "Batch : 31, D Loss : 1.146 | G Loss : 46.471\n",
            "select a batch of real samples\n",
            "generate a batch of fake samples: X_realA.shape:  (16, 128, 128, 1) X_realB.shape is (16, 128, 128, 3) \n",
            "\n",
            "generate fake instance, samples.shape:  (16, 128, 128, 1)\n",
            "1/1 [==============================] - 3s 3s/step\n",
            "update discriminator for generated samples\n",
            "update the generator\n",
            "X_realAa.shape is  (16, 128, 128, 3) X_realB.shape is  (16, 128, 128, 3) y_real.shape is  (16, 32, 32, 1)\n",
            "Batch : 32, D Loss : 1.210 | G Loss : 44.225\n",
            "select a batch of real samples\n",
            "generate a batch of fake samples: X_realA.shape:  (16, 128, 128, 1) X_realB.shape is (16, 128, 128, 3) \n",
            "\n",
            "generate fake instance, samples.shape:  (16, 128, 128, 1)\n",
            "1/1 [==============================] - 5s 5s/step\n",
            "update discriminator for generated samples\n",
            "update the generator\n",
            "X_realAa.shape is  (16, 128, 128, 3) X_realB.shape is  (16, 128, 128, 3) y_real.shape is  (16, 32, 32, 1)\n",
            "Batch : 33, D Loss : 1.292 | G Loss : 43.767\n",
            "select a batch of real samples\n",
            "generate a batch of fake samples: X_realA.shape:  (16, 128, 128, 1) X_realB.shape is (16, 128, 128, 3) \n",
            "\n",
            "generate fake instance, samples.shape:  (16, 128, 128, 1)\n",
            "1/1 [==============================] - 3s 3s/step\n",
            "update discriminator for generated samples\n",
            "update the generator\n",
            "X_realAa.shape is  (16, 128, 128, 3) X_realB.shape is  (16, 128, 128, 3) y_real.shape is  (16, 32, 32, 1)\n",
            "Batch : 34, D Loss : 1.388 | G Loss : 47.096\n",
            "select a batch of real samples\n",
            "generate a batch of fake samples: X_realA.shape:  (16, 128, 128, 1) X_realB.shape is (16, 128, 128, 3) \n",
            "\n",
            "generate fake instance, samples.shape:  (16, 128, 128, 1)\n",
            "1/1 [==============================] - 4s 4s/step\n",
            "update discriminator for generated samples\n",
            "update the generator\n",
            "X_realAa.shape is  (16, 128, 128, 3) X_realB.shape is  (16, 128, 128, 3) y_real.shape is  (16, 32, 32, 1)\n",
            "Batch : 35, D Loss : 1.300 | G Loss : 46.033\n",
            "select a batch of real samples\n",
            "generate a batch of fake samples: X_realA.shape:  (16, 128, 128, 1) X_realB.shape is (16, 128, 128, 3) \n",
            "\n",
            "generate fake instance, samples.shape:  (16, 128, 128, 1)\n",
            "1/1 [==============================] - 4s 4s/step\n",
            "update discriminator for generated samples\n",
            "update the generator\n",
            "X_realAa.shape is  (16, 128, 128, 3) X_realB.shape is  (16, 128, 128, 3) y_real.shape is  (16, 32, 32, 1)\n",
            "Batch : 36, D Loss : 1.122 | G Loss : 48.433\n",
            "select a batch of real samples\n",
            "generate a batch of fake samples: X_realA.shape:  (16, 128, 128, 1) X_realB.shape is (16, 128, 128, 3) \n",
            "\n",
            "generate fake instance, samples.shape:  (16, 128, 128, 1)\n",
            "1/1 [==============================] - 3s 3s/step\n",
            "update discriminator for generated samples\n",
            "update the generator\n",
            "X_realAa.shape is  (16, 128, 128, 3) X_realB.shape is  (16, 128, 128, 3) y_real.shape is  (16, 32, 32, 1)\n",
            "Batch : 37, D Loss : 1.171 | G Loss : 45.416\n",
            "select a batch of real samples\n",
            "generate a batch of fake samples: X_realA.shape:  (16, 128, 128, 1) X_realB.shape is (16, 128, 128, 3) \n",
            "\n",
            "generate fake instance, samples.shape:  (16, 128, 128, 1)\n",
            "1/1 [==============================] - 5s 5s/step\n",
            "update discriminator for generated samples\n",
            "update the generator\n",
            "X_realAa.shape is  (16, 128, 128, 3) X_realB.shape is  (16, 128, 128, 3) y_real.shape is  (16, 32, 32, 1)\n",
            "Batch : 38, D Loss : 1.075 | G Loss : 53.700\n",
            "select a batch of real samples\n",
            "generate a batch of fake samples: X_realA.shape:  (16, 128, 128, 1) X_realB.shape is (16, 128, 128, 3) \n",
            "\n",
            "generate fake instance, samples.shape:  (16, 128, 128, 1)\n",
            "1/1 [==============================] - 3s 3s/step\n",
            "update discriminator for generated samples\n",
            "update the generator\n",
            "X_realAa.shape is  (16, 128, 128, 3) X_realB.shape is  (16, 128, 128, 3) y_real.shape is  (16, 32, 32, 1)\n",
            "Batch : 39, D Loss : 1.237 | G Loss : 54.086\n",
            "select a batch of real samples\n",
            "generate a batch of fake samples: X_realA.shape:  (16, 128, 128, 1) X_realB.shape is (16, 128, 128, 3) \n",
            "\n",
            "generate fake instance, samples.shape:  (16, 128, 128, 1)\n",
            "1/1 [==============================] - 3s 3s/step\n",
            "update discriminator for generated samples\n",
            "update the generator\n",
            "X_realAa.shape is  (16, 128, 128, 3) X_realB.shape is  (16, 128, 128, 3) y_real.shape is  (16, 32, 32, 1)\n",
            "Batch : 40, D Loss : 1.476 | G Loss : 46.617\n",
            "select a batch of real samples\n",
            "generate a batch of fake samples: X_realA.shape:  (16, 128, 128, 1) X_realB.shape is (16, 128, 128, 3) \n",
            "\n",
            "generate fake instance, samples.shape:  (16, 128, 128, 1)\n",
            "1/1 [==============================] - 5s 5s/step\n",
            "update discriminator for generated samples\n",
            "update the generator\n",
            "X_realAa.shape is  (16, 128, 128, 3) X_realB.shape is  (16, 128, 128, 3) y_real.shape is  (16, 32, 32, 1)\n",
            "Batch : 41, D Loss : 1.303 | G Loss : 46.607\n",
            "select a batch of real samples\n",
            "generate a batch of fake samples: X_realA.shape:  (16, 128, 128, 1) X_realB.shape is (16, 128, 128, 3) \n",
            "\n",
            "generate fake instance, samples.shape:  (16, 128, 128, 1)\n",
            "1/1 [==============================] - 3s 3s/step\n",
            "update discriminator for generated samples\n",
            "update the generator\n",
            "X_realAa.shape is  (16, 128, 128, 3) X_realB.shape is  (16, 128, 128, 3) y_real.shape is  (16, 32, 32, 1)\n",
            "Batch : 42, D Loss : 1.320 | G Loss : 44.525\n",
            "select a batch of real samples\n",
            "generate a batch of fake samples: X_realA.shape:  (16, 128, 128, 1) X_realB.shape is (16, 128, 128, 3) \n",
            "\n",
            "generate fake instance, samples.shape:  (16, 128, 128, 1)\n",
            "1/1 [==============================] - 4s 4s/step\n",
            "update discriminator for generated samples\n",
            "update the generator\n",
            "X_realAa.shape is  (16, 128, 128, 3) X_realB.shape is  (16, 128, 128, 3) y_real.shape is  (16, 32, 32, 1)\n",
            "Batch : 43, D Loss : 1.166 | G Loss : 44.005\n",
            "select a batch of real samples\n",
            "generate a batch of fake samples: X_realA.shape:  (16, 128, 128, 1) X_realB.shape is (16, 128, 128, 3) \n",
            "\n",
            "generate fake instance, samples.shape:  (16, 128, 128, 1)\n",
            "1/1 [==============================] - 3s 3s/step\n",
            "update discriminator for generated samples\n",
            "update the generator\n",
            "X_realAa.shape is  (16, 128, 128, 3) X_realB.shape is  (16, 128, 128, 3) y_real.shape is  (16, 32, 32, 1)\n",
            "Batch : 44, D Loss : 0.920 | G Loss : 38.693\n",
            "select a batch of real samples\n",
            "generate a batch of fake samples: X_realA.shape:  (16, 128, 128, 1) X_realB.shape is (16, 128, 128, 3) \n",
            "\n",
            "generate fake instance, samples.shape:  (16, 128, 128, 1)\n",
            "1/1 [==============================] - 3s 3s/step\n",
            "update discriminator for generated samples\n",
            "update the generator\n",
            "X_realAa.shape is  (16, 128, 128, 3) X_realB.shape is  (16, 128, 128, 3) y_real.shape is  (16, 32, 32, 1)\n",
            "Batch : 45, D Loss : 1.326 | G Loss : 44.662\n",
            "select a batch of real samples\n",
            "generate a batch of fake samples: X_realA.shape:  (16, 128, 128, 1) X_realB.shape is (16, 128, 128, 3) \n",
            "\n",
            "generate fake instance, samples.shape:  (16, 128, 128, 1)\n",
            "1/1 [==============================] - 5s 5s/step\n",
            "update discriminator for generated samples\n",
            "update the generator\n",
            "X_realAa.shape is  (16, 128, 128, 3) X_realB.shape is  (16, 128, 128, 3) y_real.shape is  (16, 32, 32, 1)\n",
            "Batch : 46, D Loss : 1.170 | G Loss : 52.495\n",
            "select a batch of real samples\n",
            "generate a batch of fake samples: X_realA.shape:  (16, 128, 128, 1) X_realB.shape is (16, 128, 128, 3) \n",
            "\n",
            "generate fake instance, samples.shape:  (16, 128, 128, 1)\n",
            "1/1 [==============================] - 3s 3s/step\n",
            "update discriminator for generated samples\n",
            "update the generator\n",
            "X_realAa.shape is  (16, 128, 128, 3) X_realB.shape is  (16, 128, 128, 3) y_real.shape is  (16, 32, 32, 1)\n",
            "Batch : 47, D Loss : 1.453 | G Loss : 48.750\n",
            "select a batch of real samples\n",
            "generate a batch of fake samples: X_realA.shape:  (16, 128, 128, 1) X_realB.shape is (16, 128, 128, 3) \n",
            "\n",
            "generate fake instance, samples.shape:  (16, 128, 128, 1)\n",
            "1/1 [==============================] - 3s 3s/step\n",
            "update discriminator for generated samples\n",
            "update the generator\n",
            "X_realAa.shape is  (16, 128, 128, 3) X_realB.shape is  (16, 128, 128, 3) y_real.shape is  (16, 32, 32, 1)\n",
            "Batch : 48, D Loss : 1.459 | G Loss : 45.757\n",
            "select a batch of real samples\n",
            "generate a batch of fake samples: X_realA.shape:  (16, 128, 128, 1) X_realB.shape is (16, 128, 128, 3) \n",
            "\n",
            "generate fake instance, samples.shape:  (16, 128, 128, 1)\n",
            "1/1 [==============================] - 5s 5s/step\n",
            "update discriminator for generated samples\n",
            "update the generator\n",
            "X_realAa.shape is  (16, 128, 128, 3) X_realB.shape is  (16, 128, 128, 3) y_real.shape is  (16, 32, 32, 1)\n",
            "Batch : 49, D Loss : 1.151 | G Loss : 49.816\n",
            "select a batch of real samples\n",
            "generate a batch of fake samples: X_realA.shape:  (16, 128, 128, 1) X_realB.shape is (16, 128, 128, 3) \n",
            "\n",
            "generate fake instance, samples.shape:  (16, 128, 128, 1)\n",
            "1/1 [==============================] - 5s 5s/step\n",
            "update discriminator for generated samples\n",
            "update the generator\n",
            "X_realAa.shape is  (16, 128, 128, 3) X_realB.shape is  (16, 128, 128, 3) y_real.shape is  (16, 32, 32, 1)\n",
            "Batch : 50, D Loss : 1.272 | G Loss : 49.901\n",
            "select a batch of real samples\n",
            "generate a batch of fake samples: X_realA.shape:  (16, 128, 128, 1) X_realB.shape is (16, 128, 128, 3) \n",
            "\n",
            "generate fake instance, samples.shape:  (16, 128, 128, 1)\n",
            "1/1 [==============================] - 3s 3s/step\n",
            "update discriminator for generated samples\n",
            "update the generator\n",
            "X_realAa.shape is  (16, 128, 128, 3) X_realB.shape is  (16, 128, 128, 3) y_real.shape is  (16, 32, 32, 1)\n",
            "Batch : 51, D Loss : 1.503 | G Loss : 50.370\n",
            "select a batch of real samples\n",
            "generate a batch of fake samples: X_realA.shape:  (16, 128, 128, 1) X_realB.shape is (16, 128, 128, 3) \n",
            "\n",
            "generate fake instance, samples.shape:  (16, 128, 128, 1)\n",
            "1/1 [==============================] - 5s 5s/step\n",
            "update discriminator for generated samples\n",
            "update the generator\n",
            "X_realAa.shape is  (16, 128, 128, 3) X_realB.shape is  (16, 128, 128, 3) y_real.shape is  (16, 32, 32, 1)\n",
            "Batch : 52, D Loss : 1.428 | G Loss : 47.582\n",
            "select a batch of real samples\n",
            "generate a batch of fake samples: X_realA.shape:  (16, 128, 128, 1) X_realB.shape is (16, 128, 128, 3) \n",
            "\n",
            "generate fake instance, samples.shape:  (16, 128, 128, 1)\n",
            "1/1 [==============================] - 4s 4s/step\n",
            "update discriminator for generated samples\n",
            "update the generator\n",
            "X_realAa.shape is  (16, 128, 128, 3) X_realB.shape is  (16, 128, 128, 3) y_real.shape is  (16, 32, 32, 1)\n",
            "Batch : 53, D Loss : 1.370 | G Loss : 43.315\n",
            "select a batch of real samples\n",
            "generate a batch of fake samples: X_realA.shape:  (16, 128, 128, 1) X_realB.shape is (16, 128, 128, 3) \n",
            "\n",
            "generate fake instance, samples.shape:  (16, 128, 128, 1)\n",
            "1/1 [==============================] - 3s 3s/step\n",
            "update discriminator for generated samples\n",
            "update the generator\n",
            "X_realAa.shape is  (16, 128, 128, 3) X_realB.shape is  (16, 128, 128, 3) y_real.shape is  (16, 32, 32, 1)\n",
            "Batch : 54, D Loss : 1.284 | G Loss : 47.690\n",
            "select a batch of real samples\n",
            "generate a batch of fake samples: X_realA.shape:  (16, 128, 128, 1) X_realB.shape is (16, 128, 128, 3) \n",
            "\n",
            "generate fake instance, samples.shape:  (16, 128, 128, 1)\n",
            "1/1 [==============================] - 5s 5s/step\n",
            "update discriminator for generated samples\n",
            "update the generator\n",
            "X_realAa.shape is  (16, 128, 128, 3) X_realB.shape is  (16, 128, 128, 3) y_real.shape is  (16, 32, 32, 1)\n",
            "Batch : 55, D Loss : 1.251 | G Loss : 48.595\n",
            "select a batch of real samples\n",
            "generate a batch of fake samples: X_realA.shape:  (16, 128, 128, 1) X_realB.shape is (16, 128, 128, 3) \n",
            "\n",
            "generate fake instance, samples.shape:  (16, 128, 128, 1)\n",
            "1/1 [==============================] - 3s 3s/step\n",
            "update discriminator for generated samples\n",
            "update the generator\n",
            "X_realAa.shape is  (16, 128, 128, 3) X_realB.shape is  (16, 128, 128, 3) y_real.shape is  (16, 32, 32, 1)\n",
            "Batch : 56, D Loss : 1.362 | G Loss : 47.554\n",
            "select a batch of real samples\n",
            "generate a batch of fake samples: X_realA.shape:  (16, 128, 128, 1) X_realB.shape is (16, 128, 128, 3) \n",
            "\n",
            "generate fake instance, samples.shape:  (16, 128, 128, 1)\n",
            "1/1 [==============================] - 3s 3s/step\n",
            "update discriminator for generated samples\n",
            "update the generator\n",
            "X_realAa.shape is  (16, 128, 128, 3) X_realB.shape is  (16, 128, 128, 3) y_real.shape is  (16, 32, 32, 1)\n",
            "Batch : 57, D Loss : 1.121 | G Loss : 50.100\n",
            "select a batch of real samples\n",
            "generate a batch of fake samples: X_realA.shape:  (16, 128, 128, 1) X_realB.shape is (16, 128, 128, 3) \n",
            "\n",
            "generate fake instance, samples.shape:  (16, 128, 128, 1)\n",
            "1/1 [==============================] - 5s 5s/step\n",
            "update discriminator for generated samples\n",
            "update the generator\n",
            "X_realAa.shape is  (16, 128, 128, 3) X_realB.shape is  (16, 128, 128, 3) y_real.shape is  (16, 32, 32, 1)\n",
            "Batch : 58, D Loss : 1.157 | G Loss : 51.796\n",
            "select a batch of real samples\n",
            "generate a batch of fake samples: X_realA.shape:  (16, 128, 128, 1) X_realB.shape is (16, 128, 128, 3) \n",
            "\n",
            "generate fake instance, samples.shape:  (16, 128, 128, 1)\n",
            "1/1 [==============================] - 5s 5s/step\n",
            "update discriminator for generated samples\n",
            "update the generator\n",
            "X_realAa.shape is  (16, 128, 128, 3) X_realB.shape is  (16, 128, 128, 3) y_real.shape is  (16, 32, 32, 1)\n",
            "Batch : 59, D Loss : 1.306 | G Loss : 41.715\n",
            "select a batch of real samples\n",
            "generate a batch of fake samples: X_realA.shape:  (16, 128, 128, 1) X_realB.shape is (16, 128, 128, 3) \n",
            "\n",
            "generate fake instance, samples.shape:  (16, 128, 128, 1)\n",
            "1/1 [==============================] - 4s 4s/step\n",
            "update discriminator for generated samples\n",
            "update the generator\n",
            "X_realAa.shape is  (16, 128, 128, 3) X_realB.shape is  (16, 128, 128, 3) y_real.shape is  (16, 32, 32, 1)\n",
            "Batch : 60, D Loss : 1.174 | G Loss : 43.186\n",
            "select a batch of real samples\n",
            "generate a batch of fake samples: X_realA.shape:  (16, 128, 128, 1) X_realB.shape is (16, 128, 128, 3) \n",
            "\n",
            "generate fake instance, samples.shape:  (16, 128, 128, 1)\n",
            "1/1 [==============================] - 3s 3s/step\n",
            "update discriminator for generated samples\n",
            "update the generator\n",
            "X_realAa.shape is  (16, 128, 128, 3) X_realB.shape is  (16, 128, 128, 3) y_real.shape is  (16, 32, 32, 1)\n",
            "Batch : 61, D Loss : 1.186 | G Loss : 52.156\n",
            "select a batch of real samples\n",
            "generate a batch of fake samples: X_realA.shape:  (16, 128, 128, 1) X_realB.shape is (16, 128, 128, 3) \n",
            "\n",
            "generate fake instance, samples.shape:  (16, 128, 128, 1)\n",
            "1/1 [==============================] - 4s 4s/step\n",
            "update discriminator for generated samples\n",
            "update the generator\n",
            "X_realAa.shape is  (16, 128, 128, 3) X_realB.shape is  (16, 128, 128, 3) y_real.shape is  (16, 32, 32, 1)\n",
            "Batch : 62, D Loss : 1.414 | G Loss : 48.029\n",
            "select a batch of real samples\n",
            "generate a batch of fake samples: X_realA.shape:  (16, 128, 128, 1) X_realB.shape is (16, 128, 128, 3) \n",
            "\n",
            "generate fake instance, samples.shape:  (16, 128, 128, 1)\n",
            "1/1 [==============================] - 3s 3s/step\n",
            "update discriminator for generated samples\n",
            "update the generator\n",
            "X_realAa.shape is  (16, 128, 128, 3) X_realB.shape is  (16, 128, 128, 3) y_real.shape is  (16, 32, 32, 1)\n",
            "Batch : 63, D Loss : 1.224 | G Loss : 51.380\n",
            "select a batch of real samples\n",
            "generate a batch of fake samples: X_realA.shape:  (16, 128, 128, 1) X_realB.shape is (16, 128, 128, 3) \n",
            "\n",
            "generate fake instance, samples.shape:  (16, 128, 128, 1)\n",
            "1/1 [==============================] - 3s 3s/step\n",
            "update discriminator for generated samples\n",
            "update the generator\n",
            "X_realAa.shape is  (16, 128, 128, 3) X_realB.shape is  (16, 128, 128, 3) y_real.shape is  (16, 32, 32, 1)\n",
            "Batch : 64, D Loss : 1.231 | G Loss : 44.047\n",
            "select a batch of real samples\n",
            "generate a batch of fake samples: X_realA.shape:  (16, 128, 128, 1) X_realB.shape is (16, 128, 128, 3) \n",
            "\n",
            "generate fake instance, samples.shape:  (16, 128, 128, 1)\n",
            "1/1 [==============================] - 5s 5s/step\n",
            "update discriminator for generated samples\n",
            "update the generator\n",
            "X_realAa.shape is  (16, 128, 128, 3) X_realB.shape is  (16, 128, 128, 3) y_real.shape is  (16, 32, 32, 1)\n",
            "Batch : 65, D Loss : 1.306 | G Loss : 39.864\n",
            "select a batch of real samples\n",
            "generate a batch of fake samples: X_realA.shape:  (16, 128, 128, 1) X_realB.shape is (16, 128, 128, 3) \n",
            "\n",
            "generate fake instance, samples.shape:  (16, 128, 128, 1)\n",
            "1/1 [==============================] - 3s 3s/step\n",
            "update discriminator for generated samples\n",
            "update the generator\n",
            "X_realAa.shape is  (16, 128, 128, 3) X_realB.shape is  (16, 128, 128, 3) y_real.shape is  (16, 32, 32, 1)\n",
            "Batch : 66, D Loss : 1.153 | G Loss : 45.439\n",
            "select a batch of real samples\n",
            "generate a batch of fake samples: X_realA.shape:  (16, 128, 128, 1) X_realB.shape is (16, 128, 128, 3) \n",
            "\n",
            "generate fake instance, samples.shape:  (16, 128, 128, 1)\n",
            "1/1 [==============================] - 5s 5s/step\n",
            "update discriminator for generated samples\n",
            "update the generator\n",
            "X_realAa.shape is  (16, 128, 128, 3) X_realB.shape is  (16, 128, 128, 3) y_real.shape is  (16, 32, 32, 1)\n",
            "Batch : 67, D Loss : 1.235 | G Loss : 45.841\n",
            "select a batch of real samples\n",
            "generate a batch of fake samples: X_realA.shape:  (16, 128, 128, 1) X_realB.shape is (16, 128, 128, 3) \n",
            "\n",
            "generate fake instance, samples.shape:  (16, 128, 128, 1)\n",
            "1/1 [==============================] - 3s 3s/step\n",
            "update discriminator for generated samples\n",
            "update the generator\n",
            "X_realAa.shape is  (16, 128, 128, 3) X_realB.shape is  (16, 128, 128, 3) y_real.shape is  (16, 32, 32, 1)\n",
            "Batch : 68, D Loss : 1.319 | G Loss : 43.401\n",
            "select a batch of real samples\n",
            "generate a batch of fake samples: X_realA.shape:  (16, 128, 128, 1) X_realB.shape is (16, 128, 128, 3) \n",
            "\n",
            "generate fake instance, samples.shape:  (16, 128, 128, 1)\n",
            "1/1 [==============================] - 3s 3s/step\n",
            "update discriminator for generated samples\n",
            "update the generator\n",
            "X_realAa.shape is  (16, 128, 128, 3) X_realB.shape is  (16, 128, 128, 3) y_real.shape is  (16, 32, 32, 1)\n",
            "Batch : 69, D Loss : 1.167 | G Loss : 41.249\n",
            "select a batch of real samples\n",
            "generate a batch of fake samples: X_realA.shape:  (16, 128, 128, 1) X_realB.shape is (16, 128, 128, 3) \n",
            "\n",
            "generate fake instance, samples.shape:  (16, 128, 128, 1)\n",
            "1/1 [==============================] - 4s 4s/step\n",
            "update discriminator for generated samples\n",
            "update the generator\n",
            "X_realAa.shape is  (16, 128, 128, 3) X_realB.shape is  (16, 128, 128, 3) y_real.shape is  (16, 32, 32, 1)\n",
            "Batch : 70, D Loss : 1.144 | G Loss : 42.697\n",
            "select a batch of real samples\n",
            "generate a batch of fake samples: X_realA.shape:  (16, 128, 128, 1) X_realB.shape is (16, 128, 128, 3) \n",
            "\n",
            "generate fake instance, samples.shape:  (16, 128, 128, 1)\n",
            "1/1 [==============================] - 3s 3s/step\n",
            "update discriminator for generated samples\n",
            "update the generator\n",
            "X_realAa.shape is  (16, 128, 128, 3) X_realB.shape is  (16, 128, 128, 3) y_real.shape is  (16, 32, 32, 1)\n",
            "Batch : 71, D Loss : 1.366 | G Loss : 45.140\n",
            "select a batch of real samples\n",
            "generate a batch of fake samples: X_realA.shape:  (16, 128, 128, 1) X_realB.shape is (16, 128, 128, 3) \n",
            "\n",
            "generate fake instance, samples.shape:  (16, 128, 128, 1)\n",
            "1/1 [==============================] - 5s 5s/step\n",
            "update discriminator for generated samples\n",
            "update the generator\n",
            "X_realAa.shape is  (16, 128, 128, 3) X_realB.shape is  (16, 128, 128, 3) y_real.shape is  (16, 32, 32, 1)\n",
            "Batch : 72, D Loss : 1.240 | G Loss : 50.148\n",
            "select a batch of real samples\n",
            "generate a batch of fake samples: X_realA.shape:  (16, 128, 128, 1) X_realB.shape is (16, 128, 128, 3) \n",
            "\n",
            "generate fake instance, samples.shape:  (16, 128, 128, 1)\n",
            "1/1 [==============================] - 3s 3s/step\n",
            "update discriminator for generated samples\n",
            "update the generator\n",
            "X_realAa.shape is  (16, 128, 128, 3) X_realB.shape is  (16, 128, 128, 3) y_real.shape is  (16, 32, 32, 1)\n",
            "Batch : 73, D Loss : 1.358 | G Loss : 46.358\n",
            "select a batch of real samples\n",
            "generate a batch of fake samples: X_realA.shape:  (16, 128, 128, 1) X_realB.shape is (16, 128, 128, 3) \n",
            "\n",
            "generate fake instance, samples.shape:  (16, 128, 128, 1)\n",
            "1/1 [==============================] - 5s 5s/step\n",
            "update discriminator for generated samples\n",
            "update the generator\n",
            "X_realAa.shape is  (16, 128, 128, 3) X_realB.shape is  (16, 128, 128, 3) y_real.shape is  (16, 32, 32, 1)\n",
            "Batch : 74, D Loss : 1.303 | G Loss : 44.803\n",
            "select a batch of real samples\n",
            "generate a batch of fake samples: X_realA.shape:  (16, 128, 128, 1) X_realB.shape is (16, 128, 128, 3) \n",
            "\n",
            "generate fake instance, samples.shape:  (16, 128, 128, 1)\n",
            "1/1 [==============================] - 3s 3s/step\n",
            "update discriminator for generated samples\n",
            "update the generator\n",
            "X_realAa.shape is  (16, 128, 128, 3) X_realB.shape is  (16, 128, 128, 3) y_real.shape is  (16, 32, 32, 1)\n",
            "Batch : 75, D Loss : 1.329 | G Loss : 37.514\n",
            "select a batch of real samples\n",
            "generate a batch of fake samples: X_realA.shape:  (16, 128, 128, 1) X_realB.shape is (16, 128, 128, 3) \n",
            "\n",
            "generate fake instance, samples.shape:  (16, 128, 128, 1)\n",
            "1/1 [==============================] - 3s 3s/step\n",
            "update discriminator for generated samples\n",
            "update the generator\n",
            "X_realAa.shape is  (16, 128, 128, 3) X_realB.shape is  (16, 128, 128, 3) y_real.shape is  (16, 32, 32, 1)\n",
            "Batch : 76, D Loss : 1.136 | G Loss : 46.880\n",
            "select a batch of real samples\n",
            "generate a batch of fake samples: X_realA.shape:  (16, 128, 128, 1) X_realB.shape is (16, 128, 128, 3) \n",
            "\n",
            "generate fake instance, samples.shape:  (16, 128, 128, 1)\n",
            "1/1 [==============================] - 5s 5s/step\n",
            "update discriminator for generated samples\n",
            "update the generator\n",
            "X_realAa.shape is  (16, 128, 128, 3) X_realB.shape is  (16, 128, 128, 3) y_real.shape is  (16, 32, 32, 1)\n",
            "Batch : 77, D Loss : 1.311 | G Loss : 44.369\n",
            "select a batch of real samples\n",
            "generate a batch of fake samples: X_realA.shape:  (16, 128, 128, 1) X_realB.shape is (16, 128, 128, 3) \n",
            "\n",
            "generate fake instance, samples.shape:  (16, 128, 128, 1)\n",
            "1/1 [==============================] - 3s 3s/step\n",
            "update discriminator for generated samples\n",
            "update the generator\n",
            "X_realAa.shape is  (16, 128, 128, 3) X_realB.shape is  (16, 128, 128, 3) y_real.shape is  (16, 32, 32, 1)\n",
            "Batch : 78, D Loss : 1.413 | G Loss : 44.005\n",
            "select a batch of real samples\n",
            "generate a batch of fake samples: X_realA.shape:  (16, 128, 128, 1) X_realB.shape is (16, 128, 128, 3) \n",
            "\n",
            "generate fake instance, samples.shape:  (16, 128, 128, 1)\n",
            "1/1 [==============================] - 4s 4s/step\n",
            "update discriminator for generated samples\n",
            "update the generator\n",
            "X_realAa.shape is  (16, 128, 128, 3) X_realB.shape is  (16, 128, 128, 3) y_real.shape is  (16, 32, 32, 1)\n",
            "Batch : 79, D Loss : 1.180 | G Loss : 40.525\n",
            "select a batch of real samples\n",
            "generate a batch of fake samples: X_realA.shape:  (16, 128, 128, 1) X_realB.shape is (16, 128, 128, 3) \n",
            "\n",
            "generate fake instance, samples.shape:  (16, 128, 128, 1)\n",
            "1/1 [==============================] - 3s 3s/step\n",
            "update discriminator for generated samples\n",
            "update the generator\n",
            "X_realAa.shape is  (16, 128, 128, 3) X_realB.shape is  (16, 128, 128, 3) y_real.shape is  (16, 32, 32, 1)\n",
            "Batch : 80, D Loss : 0.985 | G Loss : 37.984\n",
            "select a batch of real samples\n",
            "generate a batch of fake samples: X_realA.shape:  (16, 128, 128, 1) X_realB.shape is (16, 128, 128, 3) \n",
            "\n",
            "generate fake instance, samples.shape:  (16, 128, 128, 1)\n",
            "1/1 [==============================] - 3s 3s/step\n",
            "update discriminator for generated samples\n",
            "update the generator\n",
            "X_realAa.shape is  (16, 128, 128, 3) X_realB.shape is  (16, 128, 128, 3) y_real.shape is  (16, 32, 32, 1)\n",
            "Batch : 81, D Loss : 1.416 | G Loss : 48.710\n",
            "select a batch of real samples\n",
            "generate a batch of fake samples: X_realA.shape:  (16, 128, 128, 1) X_realB.shape is (16, 128, 128, 3) \n",
            "\n",
            "generate fake instance, samples.shape:  (16, 128, 128, 1)\n",
            "1/1 [==============================] - 4s 4s/step\n",
            "update discriminator for generated samples\n",
            "update the generator\n",
            "X_realAa.shape is  (16, 128, 128, 3) X_realB.shape is  (16, 128, 128, 3) y_real.shape is  (16, 32, 32, 1)\n",
            "Batch : 82, D Loss : 1.212 | G Loss : 42.260\n",
            "select a batch of real samples\n",
            "generate a batch of fake samples: X_realA.shape:  (16, 128, 128, 1) X_realB.shape is (16, 128, 128, 3) \n",
            "\n",
            "generate fake instance, samples.shape:  (16, 128, 128, 1)\n",
            "1/1 [==============================] - 3s 3s/step\n",
            "update discriminator for generated samples\n",
            "update the generator\n",
            "X_realAa.shape is  (16, 128, 128, 3) X_realB.shape is  (16, 128, 128, 3) y_real.shape is  (16, 32, 32, 1)\n",
            "Batch : 83, D Loss : 1.212 | G Loss : 47.494\n",
            "select a batch of real samples\n",
            "generate a batch of fake samples: X_realA.shape:  (16, 128, 128, 1) X_realB.shape is (16, 128, 128, 3) \n",
            "\n",
            "generate fake instance, samples.shape:  (16, 128, 128, 1)\n",
            "1/1 [==============================] - 3s 3s/step\n",
            "update discriminator for generated samples\n",
            "update the generator\n",
            "X_realAa.shape is  (16, 128, 128, 3) X_realB.shape is  (16, 128, 128, 3) y_real.shape is  (16, 32, 32, 1)\n",
            "Batch : 84, D Loss : 1.455 | G Loss : 42.352\n",
            "select a batch of real samples\n",
            "generate a batch of fake samples: X_realA.shape:  (16, 128, 128, 1) X_realB.shape is (16, 128, 128, 3) \n",
            "\n",
            "generate fake instance, samples.shape:  (16, 128, 128, 1)\n",
            "1/1 [==============================] - 5s 5s/step\n",
            "update discriminator for generated samples\n",
            "update the generator\n",
            "X_realAa.shape is  (16, 128, 128, 3) X_realB.shape is  (16, 128, 128, 3) y_real.shape is  (16, 32, 32, 1)\n",
            "Batch : 85, D Loss : 1.419 | G Loss : 45.752\n",
            "select a batch of real samples\n",
            "generate a batch of fake samples: X_realA.shape:  (16, 128, 128, 1) X_realB.shape is (16, 128, 128, 3) \n",
            "\n",
            "generate fake instance, samples.shape:  (16, 128, 128, 1)\n",
            "1/1 [==============================] - 3s 3s/step\n",
            "update discriminator for generated samples\n",
            "update the generator\n",
            "X_realAa.shape is  (16, 128, 128, 3) X_realB.shape is  (16, 128, 128, 3) y_real.shape is  (16, 32, 32, 1)\n",
            "Batch : 86, D Loss : 1.227 | G Loss : 46.718\n",
            "select a batch of real samples\n",
            "generate a batch of fake samples: X_realA.shape:  (16, 128, 128, 1) X_realB.shape is (16, 128, 128, 3) \n",
            "\n",
            "generate fake instance, samples.shape:  (16, 128, 128, 1)\n",
            "1/1 [==============================] - 5s 5s/step\n",
            "update discriminator for generated samples\n",
            "update the generator\n",
            "X_realAa.shape is  (16, 128, 128, 3) X_realB.shape is  (16, 128, 128, 3) y_real.shape is  (16, 32, 32, 1)\n",
            "Batch : 87, D Loss : 1.240 | G Loss : 54.626\n",
            "select a batch of real samples\n",
            "generate a batch of fake samples: X_realA.shape:  (16, 128, 128, 1) X_realB.shape is (16, 128, 128, 3) \n",
            "\n",
            "generate fake instance, samples.shape:  (16, 128, 128, 1)\n",
            "1/1 [==============================] - 3s 3s/step\n",
            "update discriminator for generated samples\n",
            "update the generator\n",
            "X_realAa.shape is  (16, 128, 128, 3) X_realB.shape is  (16, 128, 128, 3) y_real.shape is  (16, 32, 32, 1)\n",
            "Batch : 88, D Loss : 1.321 | G Loss : 43.204\n",
            "select a batch of real samples\n",
            "generate a batch of fake samples: X_realA.shape:  (16, 128, 128, 1) X_realB.shape is (16, 128, 128, 3) \n",
            "\n",
            "generate fake instance, samples.shape:  (16, 128, 128, 1)\n",
            "1/1 [==============================] - 4s 4s/step\n",
            "update discriminator for generated samples\n",
            "update the generator\n",
            "X_realAa.shape is  (16, 128, 128, 3) X_realB.shape is  (16, 128, 128, 3) y_real.shape is  (16, 32, 32, 1)\n",
            "Batch : 89, D Loss : 1.340 | G Loss : 50.502\n",
            "select a batch of real samples\n",
            "generate a batch of fake samples: X_realA.shape:  (16, 128, 128, 1) X_realB.shape is (16, 128, 128, 3) \n",
            "\n",
            "generate fake instance, samples.shape:  (16, 128, 128, 1)\n",
            "1/1 [==============================] - 3s 3s/step\n",
            "update discriminator for generated samples\n",
            "update the generator\n",
            "X_realAa.shape is  (16, 128, 128, 3) X_realB.shape is  (16, 128, 128, 3) y_real.shape is  (16, 32, 32, 1)\n",
            "Batch : 90, D Loss : 1.404 | G Loss : 44.814\n",
            "select a batch of real samples\n",
            "generate a batch of fake samples: X_realA.shape:  (16, 128, 128, 1) X_realB.shape is (16, 128, 128, 3) \n",
            "\n",
            "generate fake instance, samples.shape:  (16, 128, 128, 1)\n",
            "1/1 [==============================] - 3s 3s/step\n",
            "update discriminator for generated samples\n",
            "update the generator\n",
            "X_realAa.shape is  (16, 128, 128, 3) X_realB.shape is  (16, 128, 128, 3) y_real.shape is  (16, 32, 32, 1)\n",
            "Batch : 91, D Loss : 1.192 | G Loss : 41.544\n",
            "select a batch of real samples\n",
            "generate a batch of fake samples: X_realA.shape:  (16, 128, 128, 1) X_realB.shape is (16, 128, 128, 3) \n",
            "\n",
            "generate fake instance, samples.shape:  (16, 128, 128, 1)\n",
            "1/1 [==============================] - 5s 5s/step\n",
            "update discriminator for generated samples\n",
            "update the generator\n",
            "X_realAa.shape is  (16, 128, 128, 3) X_realB.shape is  (16, 128, 128, 3) y_real.shape is  (16, 32, 32, 1)\n",
            "Batch : 92, D Loss : 1.295 | G Loss : 39.695\n",
            "select a batch of real samples\n",
            "generate a batch of fake samples: X_realA.shape:  (16, 128, 128, 1) X_realB.shape is (16, 128, 128, 3) \n",
            "\n",
            "generate fake instance, samples.shape:  (16, 128, 128, 1)\n",
            "1/1 [==============================] - 3s 3s/step\n",
            "update discriminator for generated samples\n",
            "update the generator\n",
            "X_realAa.shape is  (16, 128, 128, 3) X_realB.shape is  (16, 128, 128, 3) y_real.shape is  (16, 32, 32, 1)\n",
            "Batch : 93, D Loss : 1.297 | G Loss : 48.596\n",
            "select a batch of real samples\n",
            "generate a batch of fake samples: X_realA.shape:  (16, 128, 128, 1) X_realB.shape is (16, 128, 128, 3) \n",
            "\n",
            "generate fake instance, samples.shape:  (16, 128, 128, 1)\n",
            "1/1 [==============================] - 3s 3s/step\n",
            "update discriminator for generated samples\n",
            "update the generator\n",
            "X_realAa.shape is  (16, 128, 128, 3) X_realB.shape is  (16, 128, 128, 3) y_real.shape is  (16, 32, 32, 1)\n",
            "Batch : 94, D Loss : 1.322 | G Loss : 48.688\n",
            "select a batch of real samples\n",
            "generate a batch of fake samples: X_realA.shape:  (16, 128, 128, 1) X_realB.shape is (16, 128, 128, 3) \n",
            "\n",
            "generate fake instance, samples.shape:  (16, 128, 128, 1)\n",
            "1/1 [==============================] - 4s 4s/step\n",
            "update discriminator for generated samples\n",
            "update the generator\n",
            "X_realAa.shape is  (16, 128, 128, 3) X_realB.shape is  (16, 128, 128, 3) y_real.shape is  (16, 32, 32, 1)\n",
            "Batch : 95, D Loss : 1.235 | G Loss : 42.161\n",
            "select a batch of real samples\n",
            "generate a batch of fake samples: X_realA.shape:  (16, 128, 128, 1) X_realB.shape is (16, 128, 128, 3) \n",
            "\n",
            "generate fake instance, samples.shape:  (16, 128, 128, 1)\n",
            "1/1 [==============================] - 3s 3s/step\n",
            "update discriminator for generated samples\n",
            "update the generator\n",
            "X_realAa.shape is  (16, 128, 128, 3) X_realB.shape is  (16, 128, 128, 3) y_real.shape is  (16, 32, 32, 1)\n",
            "Batch : 96, D Loss : 1.410 | G Loss : 46.734\n",
            "select a batch of real samples\n",
            "generate a batch of fake samples: X_realA.shape:  (16, 128, 128, 1) X_realB.shape is (16, 128, 128, 3) \n",
            "\n",
            "generate fake instance, samples.shape:  (16, 128, 128, 1)\n",
            "1/1 [==============================] - 3s 3s/step\n",
            "update discriminator for generated samples\n",
            "update the generator\n",
            "X_realAa.shape is  (16, 128, 128, 3) X_realB.shape is  (16, 128, 128, 3) y_real.shape is  (16, 32, 32, 1)\n",
            "Batch : 97, D Loss : 1.492 | G Loss : 38.830\n",
            "select a batch of real samples\n",
            "generate a batch of fake samples: X_realA.shape:  (16, 128, 128, 1) X_realB.shape is (16, 128, 128, 3) \n",
            "\n",
            "generate fake instance, samples.shape:  (16, 128, 128, 1)\n",
            "1/1 [==============================] - 5s 5s/step\n",
            "update discriminator for generated samples\n",
            "update the generator\n",
            "X_realAa.shape is  (16, 128, 128, 3) X_realB.shape is  (16, 128, 128, 3) y_real.shape is  (16, 32, 32, 1)\n",
            "Batch : 98, D Loss : 1.119 | G Loss : 47.719\n",
            "select a batch of real samples\n",
            "generate a batch of fake samples: X_realA.shape:  (16, 128, 128, 1) X_realB.shape is (16, 128, 128, 3) \n",
            "\n",
            "generate fake instance, samples.shape:  (16, 128, 128, 1)\n",
            "1/1 [==============================] - 3s 3s/step\n",
            "update discriminator for generated samples\n",
            "update the generator\n",
            "X_realAa.shape is  (16, 128, 128, 3) X_realB.shape is  (16, 128, 128, 3) y_real.shape is  (16, 32, 32, 1)\n",
            "Batch : 99, D Loss : 1.322 | G Loss : 45.780\n",
            "select a batch of real samples\n",
            "generate a batch of fake samples: X_realA.shape:  (16, 128, 128, 1) X_realB.shape is (16, 128, 128, 3) \n",
            "\n",
            "generate fake instance, samples.shape:  (16, 128, 128, 1)\n",
            "1/1 [==============================] - 4s 4s/step\n",
            "update discriminator for generated samples\n",
            "update the generator\n",
            "X_realAa.shape is  (16, 128, 128, 3) X_realB.shape is  (16, 128, 128, 3) y_real.shape is  (16, 32, 32, 1)\n",
            "Batch : 100, D Loss : 1.250 | G Loss : 44.295\n",
            "select a batch of real samples\n",
            "generate a batch of fake samples: X_realA.shape:  (16, 128, 128, 1) X_realB.shape is (16, 128, 128, 3) \n",
            "\n",
            "generate fake instance, samples.shape:  (16, 128, 128, 1)\n",
            "1/1 [==============================] - 3s 3s/step\n",
            "update discriminator for generated samples\n",
            "update the generator\n",
            "X_realAa.shape is  (16, 128, 128, 3) X_realB.shape is  (16, 128, 128, 3) y_real.shape is  (16, 32, 32, 1)\n",
            "Batch : 101, D Loss : 1.304 | G Loss : 43.179\n",
            "select a batch of real samples\n",
            "generate a batch of fake samples: X_realA.shape:  (16, 128, 128, 1) X_realB.shape is (16, 128, 128, 3) \n",
            "\n",
            "generate fake instance, samples.shape:  (16, 128, 128, 1)\n",
            "1/1 [==============================] - 3s 3s/step\n",
            "update discriminator for generated samples\n",
            "update the generator\n",
            "X_realAa.shape is  (16, 128, 128, 3) X_realB.shape is  (16, 128, 128, 3) y_real.shape is  (16, 32, 32, 1)\n",
            "Batch : 102, D Loss : 1.344 | G Loss : 42.064\n",
            "select a batch of real samples\n",
            "generate a batch of fake samples: X_realA.shape:  (16, 128, 128, 1) X_realB.shape is (16, 128, 128, 3) \n",
            "\n",
            "generate fake instance, samples.shape:  (16, 128, 128, 1)\n",
            "1/1 [==============================] - 3s 3s/step\n",
            "update discriminator for generated samples\n",
            "update the generator\n",
            "X_realAa.shape is  (16, 128, 128, 3) X_realB.shape is  (16, 128, 128, 3) y_real.shape is  (16, 32, 32, 1)\n",
            "Batch : 103, D Loss : 1.315 | G Loss : 38.010\n",
            "select a batch of real samples\n",
            "generate a batch of fake samples: X_realA.shape:  (16, 128, 128, 1) X_realB.shape is (16, 128, 128, 3) \n",
            "\n",
            "generate fake instance, samples.shape:  (16, 128, 128, 1)\n",
            "1/1 [==============================] - 5s 5s/step\n",
            "update discriminator for generated samples\n",
            "update the generator\n",
            "X_realAa.shape is  (16, 128, 128, 3) X_realB.shape is  (16, 128, 128, 3) y_real.shape is  (16, 32, 32, 1)\n",
            "Batch : 104, D Loss : 1.297 | G Loss : 48.021\n",
            "select a batch of real samples\n",
            "generate a batch of fake samples: X_realA.shape:  (16, 128, 128, 1) X_realB.shape is (16, 128, 128, 3) \n",
            "\n",
            "generate fake instance, samples.shape:  (16, 128, 128, 1)\n",
            "1/1 [==============================] - 5s 5s/step\n",
            "update discriminator for generated samples\n",
            "update the generator\n",
            "X_realAa.shape is  (16, 128, 128, 3) X_realB.shape is  (16, 128, 128, 3) y_real.shape is  (16, 32, 32, 1)\n",
            "Batch : 105, D Loss : 1.367 | G Loss : 47.991\n",
            "select a batch of real samples\n",
            "generate a batch of fake samples: X_realA.shape:  (16, 128, 128, 1) X_realB.shape is (16, 128, 128, 3) \n",
            "\n",
            "generate fake instance, samples.shape:  (16, 128, 128, 1)\n",
            "1/1 [==============================] - 3s 3s/step\n",
            "update discriminator for generated samples\n",
            "update the generator\n",
            "X_realAa.shape is  (16, 128, 128, 3) X_realB.shape is  (16, 128, 128, 3) y_real.shape is  (16, 32, 32, 1)\n",
            "Batch : 106, D Loss : 1.306 | G Loss : 42.040\n",
            "select a batch of real samples\n",
            "generate a batch of fake samples: X_realA.shape:  (16, 128, 128, 1) X_realB.shape is (16, 128, 128, 3) \n",
            "\n",
            "generate fake instance, samples.shape:  (16, 128, 128, 1)\n",
            "1/1 [==============================] - 4s 4s/step\n",
            "update discriminator for generated samples\n",
            "update the generator\n",
            "X_realAa.shape is  (16, 128, 128, 3) X_realB.shape is  (16, 128, 128, 3) y_real.shape is  (16, 32, 32, 1)\n",
            "Batch : 107, D Loss : 1.214 | G Loss : 36.531\n",
            "select a batch of real samples\n",
            "generate a batch of fake samples: X_realA.shape:  (16, 128, 128, 1) X_realB.shape is (16, 128, 128, 3) \n",
            "\n",
            "generate fake instance, samples.shape:  (16, 128, 128, 1)\n",
            "1/1 [==============================] - 4s 4s/step\n",
            "update discriminator for generated samples\n",
            "update the generator\n",
            "X_realAa.shape is  (16, 128, 128, 3) X_realB.shape is  (16, 128, 128, 3) y_real.shape is  (16, 32, 32, 1)\n",
            "Batch : 108, D Loss : 1.449 | G Loss : 46.661\n",
            "select a batch of real samples\n",
            "generate a batch of fake samples: X_realA.shape:  (16, 128, 128, 1) X_realB.shape is (16, 128, 128, 3) \n",
            "\n",
            "generate fake instance, samples.shape:  (16, 128, 128, 1)\n",
            "1/1 [==============================] - 3s 3s/step\n",
            "update discriminator for generated samples\n",
            "update the generator\n",
            "X_realAa.shape is  (16, 128, 128, 3) X_realB.shape is  (16, 128, 128, 3) y_real.shape is  (16, 32, 32, 1)\n",
            "Batch : 109, D Loss : 1.368 | G Loss : 40.150\n",
            "select a batch of real samples\n",
            "generate a batch of fake samples: X_realA.shape:  (16, 128, 128, 1) X_realB.shape is (16, 128, 128, 3) \n",
            "\n",
            "generate fake instance, samples.shape:  (16, 128, 128, 1)\n",
            "1/1 [==============================] - 5s 5s/step\n",
            "update discriminator for generated samples\n",
            "update the generator\n",
            "X_realAa.shape is  (16, 128, 128, 3) X_realB.shape is  (16, 128, 128, 3) y_real.shape is  (16, 32, 32, 1)\n",
            "Batch : 110, D Loss : 1.442 | G Loss : 44.531\n",
            "select a batch of real samples\n",
            "generate a batch of fake samples: X_realA.shape:  (16, 128, 128, 1) X_realB.shape is (16, 128, 128, 3) \n",
            "\n",
            "generate fake instance, samples.shape:  (16, 128, 128, 1)\n",
            "1/1 [==============================] - 3s 3s/step\n",
            "update discriminator for generated samples\n",
            "update the generator\n",
            "X_realAa.shape is  (16, 128, 128, 3) X_realB.shape is  (16, 128, 128, 3) y_real.shape is  (16, 32, 32, 1)\n",
            "Batch : 111, D Loss : 1.194 | G Loss : 47.675\n",
            "select a batch of real samples\n",
            "generate a batch of fake samples: X_realA.shape:  (16, 128, 128, 1) X_realB.shape is (16, 128, 128, 3) \n",
            "\n",
            "generate fake instance, samples.shape:  (16, 128, 128, 1)\n",
            "1/1 [==============================] - 3s 3s/step\n",
            "update discriminator for generated samples\n",
            "update the generator\n",
            "X_realAa.shape is  (16, 128, 128, 3) X_realB.shape is  (16, 128, 128, 3) y_real.shape is  (16, 32, 32, 1)\n",
            "Batch : 112, D Loss : 1.239 | G Loss : 39.523\n",
            "generate fake instance, samples.shape:  (3, 128, 128, 3)\n"
          ]
        },
        {
          "output_type": "error",
          "ename": "UnimplementedError",
          "evalue": "ignored",
          "traceback": [
            "\u001b[0;31m---------------------------------------------------------------------------\u001b[0m",
            "\u001b[0;31mUnimplementedError\u001b[0m                        Traceback (most recent call last)",
            "\u001b[0;32m<ipython-input-94-2cb4c3dae719>\u001b[0m in \u001b[0;36m<cell line: 1>\u001b[0;34m()\u001b[0m\n\u001b[0;32m----> 1\u001b[0;31m train(d_model, g_model, gan_model, [blue_sketch, blue_photo],\n\u001b[0m\u001b[1;32m      2\u001b[0m       '/content/drive/MyDrive/Training_data_17.09.2023/Pretrained_emojis', n_epochs = 1, n_batch=16)\n",
            "\u001b[0;32m<ipython-input-70-2d3a3c31ebe6>\u001b[0m in \u001b[0;36mtrain\u001b[0;34m(d_model, g_model, gan_model, data, target_dir, n_epochs, n_batch)\u001b[0m\n\u001b[1;32m     45\u001b[0m \u001b[0;34m\u001b[0m\u001b[0m\n\u001b[1;32m     46\u001b[0m         \u001b[0;31m# summarize model performance\u001b[0m\u001b[0;34m\u001b[0m\u001b[0;34m\u001b[0m\u001b[0m\n\u001b[0;32m---> 47\u001b[0;31m         \u001b[0msummarize_performance\u001b[0m\u001b[0;34m(\u001b[0m\u001b[0mi\u001b[0m\u001b[0;34m,\u001b[0m \u001b[0mg_model\u001b[0m\u001b[0;34m,\u001b[0m \u001b[0md_model\u001b[0m\u001b[0;34m,\u001b[0m \u001b[0mdataset\u001b[0m\u001b[0;34m,\u001b[0m \u001b[0mtarget_dir\u001b[0m\u001b[0;34m)\u001b[0m\u001b[0;34m\u001b[0m\u001b[0;34m\u001b[0m\u001b[0m\n\u001b[0m",
            "\u001b[0;32m<ipython-input-8-e732a9ba24fe>\u001b[0m in \u001b[0;36msummarize_performance\u001b[0;34m(step, g_model, d_model, dataset, target_dir, n_samples)\u001b[0m\n\u001b[1;32m      4\u001b[0m     \u001b[0;34m[\u001b[0m\u001b[0mX_realA\u001b[0m\u001b[0;34m,\u001b[0m \u001b[0mX_realB\u001b[0m\u001b[0;34m]\u001b[0m\u001b[0;34m,\u001b[0m \u001b[0m_\u001b[0m \u001b[0;34m=\u001b[0m \u001b[0mgenerate_real_samples\u001b[0m\u001b[0;34m(\u001b[0m\u001b[0mdataset\u001b[0m\u001b[0;34m,\u001b[0m \u001b[0mn_samples\u001b[0m\u001b[0;34m,\u001b[0m \u001b[0;36m1\u001b[0m\u001b[0;34m)\u001b[0m\u001b[0;34m\u001b[0m\u001b[0;34m\u001b[0m\u001b[0m\n\u001b[1;32m      5\u001b[0m     \u001b[0;31m# generate a batch of fake samples\u001b[0m\u001b[0;34m\u001b[0m\u001b[0;34m\u001b[0m\u001b[0m\n\u001b[0;32m----> 6\u001b[0;31m     \u001b[0mX_fakeB\u001b[0m\u001b[0;34m,\u001b[0m \u001b[0m_\u001b[0m \u001b[0;34m=\u001b[0m \u001b[0mgenerate_fake_samples\u001b[0m\u001b[0;34m(\u001b[0m\u001b[0mg_model\u001b[0m\u001b[0;34m,\u001b[0m \u001b[0mX_realA\u001b[0m\u001b[0;34m,\u001b[0m \u001b[0;36m1\u001b[0m\u001b[0;34m)\u001b[0m\u001b[0;34m\u001b[0m\u001b[0;34m\u001b[0m\u001b[0m\n\u001b[0m\u001b[1;32m      7\u001b[0m     \u001b[0;31m# scale all pixels from [-1,1] to [0,1]\u001b[0m\u001b[0;34m\u001b[0m\u001b[0;34m\u001b[0m\u001b[0m\n\u001b[1;32m      8\u001b[0m     \u001b[0mX_realA\u001b[0m \u001b[0;34m=\u001b[0m \u001b[0;34m(\u001b[0m\u001b[0mX_realA\u001b[0m \u001b[0;34m+\u001b[0m \u001b[0;36m1\u001b[0m\u001b[0;34m)\u001b[0m \u001b[0;34m/\u001b[0m \u001b[0;36m2.0\u001b[0m\u001b[0;34m\u001b[0m\u001b[0;34m\u001b[0m\u001b[0m\n",
            "\u001b[0;32m<ipython-input-7-855ce00ff628>\u001b[0m in \u001b[0;36mgenerate_fake_samples\u001b[0;34m(g_model, samples, patch_shape)\u001b[0m\n\u001b[1;32m     19\u001b[0m     \u001b[0;31m# generate fake instance\u001b[0m\u001b[0;34m\u001b[0m\u001b[0;34m\u001b[0m\u001b[0m\n\u001b[1;32m     20\u001b[0m     \u001b[0mprint\u001b[0m\u001b[0;34m(\u001b[0m\u001b[0;34m\"generate fake instance, samples.shape: \"\u001b[0m\u001b[0;34m,\u001b[0m \u001b[0msamples\u001b[0m\u001b[0;34m.\u001b[0m\u001b[0mshape\u001b[0m\u001b[0;34m)\u001b[0m\u001b[0;34m\u001b[0m\u001b[0;34m\u001b[0m\u001b[0m\n\u001b[0;32m---> 21\u001b[0;31m     \u001b[0mX\u001b[0m \u001b[0;34m=\u001b[0m \u001b[0mg_model\u001b[0m\u001b[0;34m.\u001b[0m\u001b[0mpredict\u001b[0m\u001b[0;34m(\u001b[0m\u001b[0msamples\u001b[0m\u001b[0;34m)\u001b[0m\u001b[0;34m\u001b[0m\u001b[0;34m\u001b[0m\u001b[0m\n\u001b[0m\u001b[1;32m     22\u001b[0m \u001b[0;34m\u001b[0m\u001b[0m\n\u001b[1;32m     23\u001b[0m     \u001b[0;31m# create 'fake' class labels (0)\u001b[0m\u001b[0;34m\u001b[0m\u001b[0;34m\u001b[0m\u001b[0m\n",
            "\u001b[0;32m/usr/local/lib/python3.10/dist-packages/keras/utils/traceback_utils.py\u001b[0m in \u001b[0;36merror_handler\u001b[0;34m(*args, **kwargs)\u001b[0m\n\u001b[1;32m     68\u001b[0m             \u001b[0;31m# To get the full stack trace, call:\u001b[0m\u001b[0;34m\u001b[0m\u001b[0;34m\u001b[0m\u001b[0m\n\u001b[1;32m     69\u001b[0m             \u001b[0;31m# `tf.debugging.disable_traceback_filtering()`\u001b[0m\u001b[0;34m\u001b[0m\u001b[0;34m\u001b[0m\u001b[0m\n\u001b[0;32m---> 70\u001b[0;31m             \u001b[0;32mraise\u001b[0m \u001b[0me\u001b[0m\u001b[0;34m.\u001b[0m\u001b[0mwith_traceback\u001b[0m\u001b[0;34m(\u001b[0m\u001b[0mfiltered_tb\u001b[0m\u001b[0;34m)\u001b[0m \u001b[0;32mfrom\u001b[0m \u001b[0;32mNone\u001b[0m\u001b[0;34m\u001b[0m\u001b[0;34m\u001b[0m\u001b[0m\n\u001b[0m\u001b[1;32m     71\u001b[0m         \u001b[0;32mfinally\u001b[0m\u001b[0;34m:\u001b[0m\u001b[0;34m\u001b[0m\u001b[0;34m\u001b[0m\u001b[0m\n\u001b[1;32m     72\u001b[0m             \u001b[0;32mdel\u001b[0m \u001b[0mfiltered_tb\u001b[0m\u001b[0;34m\u001b[0m\u001b[0;34m\u001b[0m\u001b[0m\n",
            "\u001b[0;32m/usr/local/lib/python3.10/dist-packages/tensorflow/python/eager/execute.py\u001b[0m in \u001b[0;36mquick_execute\u001b[0;34m(op_name, num_outputs, inputs, attrs, ctx, name)\u001b[0m\n\u001b[1;32m     50\u001b[0m   \u001b[0;32mtry\u001b[0m\u001b[0;34m:\u001b[0m\u001b[0;34m\u001b[0m\u001b[0;34m\u001b[0m\u001b[0m\n\u001b[1;32m     51\u001b[0m     \u001b[0mctx\u001b[0m\u001b[0;34m.\u001b[0m\u001b[0mensure_initialized\u001b[0m\u001b[0;34m(\u001b[0m\u001b[0;34m)\u001b[0m\u001b[0;34m\u001b[0m\u001b[0;34m\u001b[0m\u001b[0m\n\u001b[0;32m---> 52\u001b[0;31m     tensors = pywrap_tfe.TFE_Py_Execute(ctx._handle, device_name, op_name,\n\u001b[0m\u001b[1;32m     53\u001b[0m                                         inputs, attrs, num_outputs)\n\u001b[1;32m     54\u001b[0m   \u001b[0;32mexcept\u001b[0m \u001b[0mcore\u001b[0m\u001b[0;34m.\u001b[0m\u001b[0m_NotOkStatusException\u001b[0m \u001b[0;32mas\u001b[0m \u001b[0me\u001b[0m\u001b[0;34m:\u001b[0m\u001b[0;34m\u001b[0m\u001b[0;34m\u001b[0m\u001b[0m\n",
            "\u001b[0;31mUnimplementedError\u001b[0m: Graph execution error:\n\nDetected at node 'generator/leaky_re_lu_33/LeakyRelu' defined at (most recent call last):\n    File \"/usr/lib/python3.10/runpy.py\", line 196, in _run_module_as_main\n      return _run_code(code, main_globals, None,\n    File \"/usr/lib/python3.10/runpy.py\", line 86, in _run_code\n      exec(code, run_globals)\n    File \"/usr/local/lib/python3.10/dist-packages/colab_kernel_launcher.py\", line 37, in <module>\n      ColabKernelApp.launch_instance()\n    File \"/usr/local/lib/python3.10/dist-packages/traitlets/config/application.py\", line 992, in launch_instance\n      app.start()\n    File \"/usr/local/lib/python3.10/dist-packages/ipykernel/kernelapp.py\", line 619, in start\n      self.io_loop.start()\n    File \"/usr/local/lib/python3.10/dist-packages/tornado/platform/asyncio.py\", line 195, in start\n      self.asyncio_loop.run_forever()\n    File \"/usr/lib/python3.10/asyncio/base_events.py\", line 603, in run_forever\n      self._run_once()\n    File \"/usr/lib/python3.10/asyncio/base_events.py\", line 1909, in _run_once\n      handle._run()\n    File \"/usr/lib/python3.10/asyncio/events.py\", line 80, in _run\n      self._context.run(self._callback, *self._args)\n    File \"/usr/local/lib/python3.10/dist-packages/tornado/ioloop.py\", line 685, in <lambda>\n      lambda f: self._run_callback(functools.partial(callback, future))\n    File \"/usr/local/lib/python3.10/dist-packages/tornado/ioloop.py\", line 738, in _run_callback\n      ret = callback()\n    File \"/usr/local/lib/python3.10/dist-packages/tornado/gen.py\", line 825, in inner\n      self.ctx_run(self.run)\n    File \"/usr/local/lib/python3.10/dist-packages/tornado/gen.py\", line 786, in run\n      yielded = self.gen.send(value)\n    File \"/usr/local/lib/python3.10/dist-packages/ipykernel/kernelbase.py\", line 361, in process_one\n      yield gen.maybe_future(dispatch(*args))\n    File \"/usr/local/lib/python3.10/dist-packages/tornado/gen.py\", line 234, in wrapper\n      yielded = ctx_run(next, result)\n    File \"/usr/local/lib/python3.10/dist-packages/ipykernel/kernelbase.py\", line 261, in dispatch_shell\n      yield gen.maybe_future(handler(stream, idents, msg))\n    File \"/usr/local/lib/python3.10/dist-packages/tornado/gen.py\", line 234, in wrapper\n      yielded = ctx_run(next, result)\n    File \"/usr/local/lib/python3.10/dist-packages/ipykernel/kernelbase.py\", line 539, in execute_request\n      self.do_execute(\n    File \"/usr/local/lib/python3.10/dist-packages/tornado/gen.py\", line 234, in wrapper\n      yielded = ctx_run(next, result)\n    File \"/usr/local/lib/python3.10/dist-packages/ipykernel/ipkernel.py\", line 302, in do_execute\n      res = shell.run_cell(code, store_history=store_history, silent=silent)\n    File \"/usr/local/lib/python3.10/dist-packages/ipykernel/zmqshell.py\", line 539, in run_cell\n      return super(ZMQInteractiveShell, self).run_cell(*args, **kwargs)\n    File \"/usr/local/lib/python3.10/dist-packages/IPython/core/interactiveshell.py\", line 2975, in run_cell\n      result = self._run_cell(\n    File \"/usr/local/lib/python3.10/dist-packages/IPython/core/interactiveshell.py\", line 3030, in _run_cell\n      return runner(coro)\n    File \"/usr/local/lib/python3.10/dist-packages/IPython/core/async_helpers.py\", line 78, in _pseudo_sync_runner\n      coro.send(None)\n    File \"/usr/local/lib/python3.10/dist-packages/IPython/core/interactiveshell.py\", line 3257, in run_cell_async\n      has_raised = await self.run_ast_nodes(code_ast.body, cell_name,\n    File \"/usr/local/lib/python3.10/dist-packages/IPython/core/interactiveshell.py\", line 3473, in run_ast_nodes\n      if (await self.run_code(code, result,  async_=asy)):\n    File \"/usr/local/lib/python3.10/dist-packages/IPython/core/interactiveshell.py\", line 3553, in run_code\n      exec(code_obj, self.user_global_ns, self.user_ns)\n    File \"<ipython-input-94-2cb4c3dae719>\", line 1, in <cell line: 1>\n      train(d_model, g_model, gan_model, [blue_sketch, blue_photo],\n    File \"<ipython-input-70-2d3a3c31ebe6>\", line 47, in train\n      summarize_performance(i, g_model, d_model, dataset, target_dir)\n    File \"<ipython-input-8-e732a9ba24fe>\", line 6, in summarize_performance\n      X_fakeB, _ = generate_fake_samples(g_model, X_realA, 1)\n    File \"<ipython-input-7-855ce00ff628>\", line 21, in generate_fake_samples\n      X = g_model.predict(samples)\n    File \"/usr/local/lib/python3.10/dist-packages/keras/utils/traceback_utils.py\", line 65, in error_handler\n      return fn(*args, **kwargs)\n    File \"/usr/local/lib/python3.10/dist-packages/keras/engine/training.py\", line 2382, in predict\n      tmp_batch_outputs = self.predict_function(iterator)\n    File \"/usr/local/lib/python3.10/dist-packages/keras/engine/training.py\", line 2169, in predict_function\n      return step_function(self, iterator)\n    File \"/usr/local/lib/python3.10/dist-packages/keras/engine/training.py\", line 2155, in step_function\n      outputs = model.distribute_strategy.run(run_step, args=(data,))\n    File \"/usr/local/lib/python3.10/dist-packages/keras/engine/training.py\", line 2143, in run_step\n      outputs = model.predict_step(data)\n    File \"/usr/local/lib/python3.10/dist-packages/keras/engine/training.py\", line 2111, in predict_step\n      return self(x, training=False)\n    File \"/usr/local/lib/python3.10/dist-packages/keras/utils/traceback_utils.py\", line 65, in error_handler\n      return fn(*args, **kwargs)\n    File \"/usr/local/lib/python3.10/dist-packages/keras/engine/training.py\", line 558, in __call__\n      return super().__call__(*args, **kwargs)\n    File \"/usr/local/lib/python3.10/dist-packages/keras/utils/traceback_utils.py\", line 65, in error_handler\n      return fn(*args, **kwargs)\n    File \"/usr/local/lib/python3.10/dist-packages/keras/engine/base_layer.py\", line 1145, in __call__\n      outputs = call_fn(inputs, *args, **kwargs)\n    File \"/usr/local/lib/python3.10/dist-packages/keras/utils/traceback_utils.py\", line 96, in error_handler\n      return fn(*args, **kwargs)\n    File \"/usr/local/lib/python3.10/dist-packages/keras/engine/functional.py\", line 512, in call\n      return self._run_internal_graph(inputs, training=training, mask=mask)\n    File \"/usr/local/lib/python3.10/dist-packages/keras/engine/functional.py\", line 669, in _run_internal_graph\n      outputs = node.layer(*args, **kwargs)\n    File \"/usr/local/lib/python3.10/dist-packages/keras/utils/traceback_utils.py\", line 65, in error_handler\n      return fn(*args, **kwargs)\n    File \"/usr/local/lib/python3.10/dist-packages/keras/engine/base_layer.py\", line 1145, in __call__\n      outputs = call_fn(inputs, *args, **kwargs)\n    File \"/usr/local/lib/python3.10/dist-packages/keras/utils/traceback_utils.py\", line 96, in error_handler\n      return fn(*args, **kwargs)\n    File \"/usr/local/lib/python3.10/dist-packages/keras/layers/activation/leaky_relu.py\", line 72, in call\n      return backend.relu(inputs, alpha=self.alpha)\n    File \"/usr/local/lib/python3.10/dist-packages/keras/backend.py\", line 5379, in relu\n      return tf.nn.leaky_relu(x, alpha=alpha)\nNode: 'generator/leaky_re_lu_33/LeakyRelu'\nFused conv implementation does not support grouped convolutions for now.\n\t [[{{node generator/leaky_re_lu_33/LeakyRelu}}]] [Op:__inference_predict_function_31412]"
          ]
        }
      ],
      "source": [
        "train(d_model, g_model, gan_model, [blue_sketch, blue_photo],\n",
        "      '/content/drive/MyDrive/Training_data_17.09.2023/Pretrained_emojis', n_epochs = 1, n_batch=16)"
      ]
    },
    {
      "cell_type": "code",
      "execution_count": 190,
      "metadata": {
        "colab": {
          "base_uri": "https://localhost:8080/",
          "height": 450
        },
        "id": "DFGxjyVWhG5M",
        "outputId": "460e9019-7383-4fa7-df04-bc10cc86ab1e"
      },
      "outputs": [
        {
          "output_type": "execute_result",
          "data": {
            "text/plain": [
              "(72, 72)"
            ]
          },
          "metadata": {},
          "execution_count": 190
        },
        {
          "output_type": "display_data",
          "data": {
            "text/plain": [
              "<Figure size 640x480 with 1 Axes>"
            ],
            "image/png": "[encoded data removed]"
          },
          "metadata": {}
        }
      ],
      "source": [
        "from PIL import Image\n",
        "image = Image.open('/content/drive/MyDrive/Training_data_17.09.2023/Full_Training-sketches/87.png')\n",
        "arr = np.asarray(image)\n",
        "plt.imshow(arr, cmap='gray')\n",
        "arr.shape"
      ]
    },
    {
      "cell_type": "code",
      "execution_count": 191,
      "metadata": {
        "colab": {
          "base_uri": "https://localhost:8080/"
        },
        "id": "1tS7hNwjhGyO",
        "outputId": "d6f13917-7de9-4e55-cd2a-66032101b4d6"
      },
      "outputs": [
        {
          "output_type": "execute_result",
          "data": {
            "text/plain": [
              "TensorShape([1, 128, 128, 1])"
            ]
          },
          "metadata": {},
          "execution_count": 191
        }
      ],
      "source": [
        "arr = arr[tf.newaxis, ..., tf.newaxis]\n",
        "new_arr = tf.image.resize(arr, (128, 128), 'bicubic')\n",
        "new_arr.shape"
      ]
    },
    {
      "cell_type": "code",
      "source": [
        "target_dir ='/content/drive/MyDrive/Training_data_17.09.2023/Summarizing_performance_haha/'\n",
        "\n",
        "g_model.save(target_dir + 'g_model.h5')\n",
        "\n",
        "# save the discriminator model\n",
        "d_model.save(target_dir + 'd_model.h5')"
      ],
      "metadata": {
        "colab": {
          "base_uri": "https://localhost:8080/"
        },
        "id": "xBqcB806utbL",
        "outputId": "6c7c86d6-c8f0-49e1-9c8d-09da0352b9b9"
      },
      "execution_count": 109,
      "outputs": [
        {
          "output_type": "stream",
          "name": "stderr",
          "text": [
            "WARNING:tensorflow:Compiled the loaded model, but the compiled metrics have yet to be built. `model.compile_metrics` will be empty until you train or evaluate the model.\n"
          ]
        }
      ]
    },
    {
      "cell_type": "code",
      "source": [
        "plt.imshow(new_arr[0])"
      ],
      "metadata": {
        "colab": {
          "base_uri": "https://localhost:8080/",
          "height": 451
        },
        "id": "wTNXXZEtMnCZ",
        "outputId": "1c25066f-9f90-4c5e-e155-b131fbb81715"
      },
      "execution_count": 192,
      "outputs": [
        {
          "output_type": "execute_result",
          "data": {
            "text/plain": [
              "<matplotlib.image.AxesImage at 0x7c0ed01a3f40>"
            ]
          },
          "metadata": {},
          "execution_count": 192
        },
        {
          "output_type": "display_data",
          "data": {
            "text/plain": [
              "<Figure size 640x480 with 1 Axes>"
            ],
            "image/png": "[encoded data removed]"
          },
          "metadata": {}
        }
      ]
    },
    {
      "cell_type": "code",
      "execution_count": 188,
      "metadata": {
        "colab": {
          "base_uri": "https://localhost:8080/"
        },
        "id": "hl4HC6HFhGsS",
        "outputId": "bf0bf8f6-ae80-449c-bdeb-0e80e640c571"
      },
      "outputs": [
        {
          "output_type": "execute_result",
          "data": {
            "text/plain": [
              "TensorShape([1, 128, 128, 3])"
            ]
          },
          "metadata": {},
          "execution_count": 188
        }
      ],
      "source": [
        "new_arr = tf.concat([new_arr, new_arr, new_arr], axis=3)\n",
        "new_arr.shape"
      ]
    },
    {
      "cell_type": "code",
      "execution_count": 193,
      "metadata": {
        "id": "kctsRyOOhGjc"
      },
      "outputs": [],
      "source": [
        "new_arr = gan_model(new_arr)"
      ]
    },
    {
      "cell_type": "code",
      "execution_count": 194,
      "metadata": {
        "colab": {
          "base_uri": "https://localhost:8080/",
          "height": 447
        },
        "id": "x6g7bUmGhGeH",
        "outputId": "12145e94-5787-415e-9437-69fe63181f49"
      },
      "outputs": [
        {
          "output_type": "execute_result",
          "data": {
            "text/plain": [
              "<matplotlib.image.AxesImage at 0x7c0ed13738b0>"
            ]
          },
          "metadata": {},
          "execution_count": 194
        },
        {
          "output_type": "display_data",
          "data": {
            "text/plain": [
              "<Figure size 640x480 with 1 Axes>"
            ],
            "image/png": "[encoded data removed]"
          },
          "metadata": {}
        }
      ],
      "source": [
        "plt.imshow(new_arr[0][0])"
      ]
    },
    {
      "cell_type": "code",
      "execution_count": 19,
      "metadata": {
        "colab": {
          "base_uri": "https://localhost:8080/"
        },
        "id": "2suvzdC7N4dn",
        "outputId": "871c8942-7c87-46b4-a105-081b3b06c1f2"
      },
      "outputs": [
        {
          "output_type": "execute_result",
          "data": {
            "text/plain": [
              "(1798, 1798)"
            ]
          },
          "metadata": {},
          "execution_count": 19
        }
      ],
      "source": [
        "# len(blue_sketch), len(blue_photo)"
      ]
    },
    {
      "cell_type": "code",
      "source": [
        "g_model.summary()"
      ],
      "metadata": {
        "colab": {
          "base_uri": "https://localhost:8080/"
        },
        "id": "hTTLeMXYya7z",
        "outputId": "fc795c29-8f4e-45ec-87ec-0a4d0cd71ee8"
      },
      "execution_count": 62,
      "outputs": [
        {
          "output_type": "stream",
          "name": "stdout",
          "text": [
            "Model: \"generator\"\n",
            "__________________________________________________________________________________________________\n",
            " Layer (type)                   Output Shape         Param #     Connected to                     \n",
            "==================================================================================================\n",
            " input_13 (InputLayer)          [(None, 128, 128, 1  0           []                               \n",
            "                                )]                                                                \n",
            "                                                                                                  \n",
            " conv2d_54 (Conv2D)             (None, 64, 64, 64)   1088        ['input_13[0][0]']               \n",
            "                                                                                                  \n",
            " leaky_re_lu_33 (LeakyReLU)     (None, 64, 64, 64)   0           ['conv2d_54[0][0]']              \n",
            "                                                                                                  \n",
            " conv2d_55 (Conv2D)             (None, 32, 32, 128)  131200      ['leaky_re_lu_33[0][0]']         \n",
            "                                                                                                  \n",
            " leaky_re_lu_34 (LeakyReLU)     (None, 32, 32, 128)  0           ['conv2d_55[0][0]']              \n",
            "                                                                                                  \n",
            " instance_normalization_45 (Ins  (None, 32, 32, 128)  2          ['leaky_re_lu_34[0][0]']         \n",
            " tanceNormalization)                                                                              \n",
            "                                                                                                  \n",
            " conv2d_56 (Conv2D)             (None, 16, 16, 256)  524544      ['instance_normalization_45[0][0]\n",
            "                                                                 ']                               \n",
            "                                                                                                  \n",
            " leaky_re_lu_35 (LeakyReLU)     (None, 16, 16, 256)  0           ['conv2d_56[0][0]']              \n",
            "                                                                                                  \n",
            " instance_normalization_46 (Ins  (None, 16, 16, 256)  2          ['leaky_re_lu_35[0][0]']         \n",
            " tanceNormalization)                                                                              \n",
            "                                                                                                  \n",
            " conv2d_57 (Conv2D)             (None, 8, 8, 512)    2097664     ['instance_normalization_46[0][0]\n",
            "                                                                 ']                               \n",
            "                                                                                                  \n",
            " leaky_re_lu_36 (LeakyReLU)     (None, 8, 8, 512)    0           ['conv2d_57[0][0]']              \n",
            "                                                                                                  \n",
            " instance_normalization_47 (Ins  (None, 8, 8, 512)   2           ['leaky_re_lu_36[0][0]']         \n",
            " tanceNormalization)                                                                              \n",
            "                                                                                                  \n",
            " conv2d_58 (Conv2D)             (None, 4, 4, 512)    4194816     ['instance_normalization_47[0][0]\n",
            "                                                                 ']                               \n",
            "                                                                                                  \n",
            " leaky_re_lu_37 (LeakyReLU)     (None, 4, 4, 512)    0           ['conv2d_58[0][0]']              \n",
            "                                                                                                  \n",
            " instance_normalization_48 (Ins  (None, 4, 4, 512)   2           ['leaky_re_lu_37[0][0]']         \n",
            " tanceNormalization)                                                                              \n",
            "                                                                                                  \n",
            " conv2d_59 (Conv2D)             (None, 2, 2, 512)    4194816     ['instance_normalization_48[0][0]\n",
            "                                                                 ']                               \n",
            "                                                                                                  \n",
            " leaky_re_lu_38 (LeakyReLU)     (None, 2, 2, 512)    0           ['conv2d_59[0][0]']              \n",
            "                                                                                                  \n",
            " instance_normalization_49 (Ins  (None, 2, 2, 512)   2           ['leaky_re_lu_38[0][0]']         \n",
            " tanceNormalization)                                                                              \n",
            "                                                                                                  \n",
            " conv2d_60 (Conv2D)             (None, 1, 1, 512)    4194816     ['instance_normalization_49[0][0]\n",
            "                                                                 ']                               \n",
            "                                                                                                  \n",
            " leaky_re_lu_39 (LeakyReLU)     (None, 1, 1, 512)    0           ['conv2d_60[0][0]']              \n",
            "                                                                                                  \n",
            " instance_normalization_50 (Ins  (None, 1, 1, 512)   2           ['leaky_re_lu_39[0][0]']         \n",
            " tanceNormalization)                                                                              \n",
            "                                                                                                  \n",
            " up_sampling2d_21 (UpSampling2D  (None, 2, 2, 512)   0           ['instance_normalization_50[0][0]\n",
            " )                                                               ']                               \n",
            "                                                                                                  \n",
            " conv2d_61 (Conv2D)             (None, 2, 2, 512)    4194816     ['up_sampling2d_21[0][0]']       \n",
            "                                                                                                  \n",
            " dropout_9 (Dropout)            (None, 2, 2, 512)    0           ['conv2d_61[0][0]']              \n",
            "                                                                                                  \n",
            " instance_normalization_51 (Ins  (None, 2, 2, 512)   2           ['dropout_9[0][0]']              \n",
            " tanceNormalization)                                                                              \n",
            "                                                                                                  \n",
            " concatenate_21 (Concatenate)   (None, 2, 2, 1024)   0           ['instance_normalization_51[0][0]\n",
            "                                                                 ',                               \n",
            "                                                                  'instance_normalization_49[0][0]\n",
            "                                                                 ']                               \n",
            "                                                                                                  \n",
            " up_sampling2d_22 (UpSampling2D  (None, 4, 4, 1024)  0           ['concatenate_21[0][0]']         \n",
            " )                                                                                                \n",
            "                                                                                                  \n",
            " conv2d_62 (Conv2D)             (None, 4, 4, 512)    8389120     ['up_sampling2d_22[0][0]']       \n",
            "                                                                                                  \n",
            " dropout_10 (Dropout)           (None, 4, 4, 512)    0           ['conv2d_62[0][0]']              \n",
            "                                                                                                  \n",
            " instance_normalization_52 (Ins  (None, 4, 4, 512)   2           ['dropout_10[0][0]']             \n",
            " tanceNormalization)                                                                              \n",
            "                                                                                                  \n",
            " concatenate_22 (Concatenate)   (None, 4, 4, 1024)   0           ['instance_normalization_52[0][0]\n",
            "                                                                 ',                               \n",
            "                                                                  'instance_normalization_48[0][0]\n",
            "                                                                 ']                               \n",
            "                                                                                                  \n",
            " up_sampling2d_23 (UpSampling2D  (None, 8, 8, 1024)  0           ['concatenate_22[0][0]']         \n",
            " )                                                                                                \n",
            "                                                                                                  \n",
            " conv2d_63 (Conv2D)             (None, 8, 8, 512)    8389120     ['up_sampling2d_23[0][0]']       \n",
            "                                                                                                  \n",
            " dropout_11 (Dropout)           (None, 8, 8, 512)    0           ['conv2d_63[0][0]']              \n",
            "                                                                                                  \n",
            " instance_normalization_53 (Ins  (None, 8, 8, 512)   2           ['dropout_11[0][0]']             \n",
            " tanceNormalization)                                                                              \n",
            "                                                                                                  \n",
            " concatenate_23 (Concatenate)   (None, 8, 8, 1024)   0           ['instance_normalization_53[0][0]\n",
            "                                                                 ',                               \n",
            "                                                                  'instance_normalization_47[0][0]\n",
            "                                                                 ']                               \n",
            "                                                                                                  \n",
            " up_sampling2d_24 (UpSampling2D  (None, 16, 16, 1024  0          ['concatenate_23[0][0]']         \n",
            " )                              )                                                                 \n",
            "                                                                                                  \n",
            " conv2d_64 (Conv2D)             (None, 16, 16, 256)  4194560     ['up_sampling2d_24[0][0]']       \n",
            "                                                                                                  \n",
            " instance_normalization_54 (Ins  (None, 16, 16, 256)  2          ['conv2d_64[0][0]']              \n",
            " tanceNormalization)                                                                              \n",
            "                                                                                                  \n",
            " concatenate_24 (Concatenate)   (None, 16, 16, 512)  0           ['instance_normalization_54[0][0]\n",
            "                                                                 ',                               \n",
            "                                                                  'instance_normalization_46[0][0]\n",
            "                                                                 ']                               \n",
            "                                                                                                  \n",
            " up_sampling2d_25 (UpSampling2D  (None, 32, 32, 512)  0          ['concatenate_24[0][0]']         \n",
            " )                                                                                                \n",
            "                                                                                                  \n",
            " conv2d_65 (Conv2D)             (None, 32, 32, 128)  1048704     ['up_sampling2d_25[0][0]']       \n",
            "                                                                                                  \n",
            " instance_normalization_55 (Ins  (None, 32, 32, 128)  2          ['conv2d_65[0][0]']              \n",
            " tanceNormalization)                                                                              \n",
            "                                                                                                  \n",
            " concatenate_25 (Concatenate)   (None, 32, 32, 256)  0           ['instance_normalization_55[0][0]\n",
            "                                                                 ',                               \n",
            "                                                                  'instance_normalization_45[0][0]\n",
            "                                                                 ']                               \n",
            "                                                                                                  \n",
            " up_sampling2d_26 (UpSampling2D  (None, 64, 64, 256)  0          ['concatenate_25[0][0]']         \n",
            " )                                                                                                \n",
            "                                                                                                  \n",
            " conv2d_66 (Conv2D)             (None, 64, 64, 64)   262208      ['up_sampling2d_26[0][0]']       \n",
            "                                                                                                  \n",
            " instance_normalization_56 (Ins  (None, 64, 64, 64)  2           ['conv2d_66[0][0]']              \n",
            " tanceNormalization)                                                                              \n",
            "                                                                                                  \n",
            " concatenate_26 (Concatenate)   (None, 64, 64, 128)  0           ['instance_normalization_56[0][0]\n",
            "                                                                 ',                               \n",
            "                                                                  'leaky_re_lu_33[0][0]']         \n",
            "                                                                                                  \n",
            " up_sampling2d_27 (UpSampling2D  (None, 128, 128, 12  0          ['concatenate_26[0][0]']         \n",
            " )                              8)                                                                \n",
            "                                                                                                  \n",
            " conv2d_67 (Conv2D)             (None, 128, 128, 1)  2049        ['up_sampling2d_27[0][0]']       \n",
            "                                                                                                  \n",
            "==================================================================================================\n",
            "Total params: 41,819,545\n",
            "Trainable params: 41,819,545\n",
            "Non-trainable params: 0\n",
            "__________________________________________________________________________________________________\n"
          ]
        }
      ]
    },
    {
      "cell_type": "code",
      "source": [
        "# g_model.load_weights('/content/drive/MyDrive/Training_data_17.09.2023/Pretrained/My_little_modelsg_model.h5')\n",
        "d_model.load_weights('/content/drive/MyDrive/Training_data_17.09.2023/Pretrained/My_little_modelsd_model.h5')"
      ],
      "metadata": {
        "id": "9QzAuTb_xorR"
      },
      "execution_count": null,
      "outputs": []
    },
    {
      "cell_type": "code",
      "source": [
        "summarize_performance(1, g_model, d_model, dataset,\n",
        "                      '/content/drive/MyDrive/Training_data_17.09.2023/Summarizing_performance_haha/')"
      ],
      "metadata": {
        "colab": {
          "base_uri": "https://localhost:8080/"
        },
        "id": "_sd5NOxyv5Kf",
        "outputId": "cbef3dc3-5b58-41f9-ecb3-42f110b13fe8"
      },
      "execution_count": 33,
      "outputs": [
        {
          "output_type": "stream",
          "name": "stdout",
          "text": [
            "1/1 [==============================] - 0s 80ms/step\n"
          ]
        },
        {
          "output_type": "stream",
          "name": "stderr",
          "text": [
            "WARNING:tensorflow:Compiled the loaded model, but the compiled metrics have yet to be built. `model.compile_metrics` will be empty until you train or evaluate the model.\n",
            "WARNING:tensorflow:Compiled the loaded model, but the compiled metrics have yet to be built. `model.compile_metrics` will be empty until you train or evaluate the model.\n"
          ]
        },
        {
          "output_type": "stream",
          "name": "stdout",
          "text": [
            ">Saved: plot_000002.png and g_model & d_model\n"
          ]
        }
      ]
    },
    {
      "cell_type": "code",
      "source": [
        "g_model.summary()"
      ],
      "metadata": {
        "colab": {
          "base_uri": "https://localhost:8080/"
        },
        "id": "m8Dqrext3rom",
        "outputId": "681d91fb-608f-4ccb-d310-89511e8a18d7"
      },
      "execution_count": 85,
      "outputs": [
        {
          "output_type": "stream",
          "name": "stdout",
          "text": [
            "Model: \"generator\"\n",
            "__________________________________________________________________________________________________\n",
            " Layer (type)                   Output Shape         Param #     Connected to                     \n",
            "==================================================================================================\n",
            " input_13 (InputLayer)          [(None, 128, 128, 1  0           []                               \n",
            "                                )]                                                                \n",
            "                                                                                                  \n",
            " conv2d_54 (Conv2D)             (None, 64, 64, 64)   1088        ['input_13[0][0]']               \n",
            "                                                                                                  \n",
            " leaky_re_lu_33 (LeakyReLU)     (None, 64, 64, 64)   0           ['conv2d_54[0][0]']              \n",
            "                                                                                                  \n",
            " conv2d_55 (Conv2D)             (None, 32, 32, 128)  131200      ['leaky_re_lu_33[0][0]']         \n",
            "                                                                                                  \n",
            " leaky_re_lu_34 (LeakyReLU)     (None, 32, 32, 128)  0           ['conv2d_55[0][0]']              \n",
            "                                                                                                  \n",
            " instance_normalization_45 (Ins  (None, 32, 32, 128)  2          ['leaky_re_lu_34[0][0]']         \n",
            " tanceNormalization)                                                                              \n",
            "                                                                                                  \n",
            " conv2d_56 (Conv2D)             (None, 16, 16, 256)  524544      ['instance_normalization_45[0][0]\n",
            "                                                                 ']                               \n",
            "                                                                                                  \n",
            " leaky_re_lu_35 (LeakyReLU)     (None, 16, 16, 256)  0           ['conv2d_56[0][0]']              \n",
            "                                                                                                  \n",
            " instance_normalization_46 (Ins  (None, 16, 16, 256)  2          ['leaky_re_lu_35[0][0]']         \n",
            " tanceNormalization)                                                                              \n",
            "                                                                                                  \n",
            " conv2d_57 (Conv2D)             (None, 8, 8, 512)    2097664     ['instance_normalization_46[0][0]\n",
            "                                                                 ']                               \n",
            "                                                                                                  \n",
            " leaky_re_lu_36 (LeakyReLU)     (None, 8, 8, 512)    0           ['conv2d_57[0][0]']              \n",
            "                                                                                                  \n",
            " instance_normalization_47 (Ins  (None, 8, 8, 512)   2           ['leaky_re_lu_36[0][0]']         \n",
            " tanceNormalization)                                                                              \n",
            "                                                                                                  \n",
            " conv2d_58 (Conv2D)             (None, 4, 4, 512)    4194816     ['instance_normalization_47[0][0]\n",
            "                                                                 ']                               \n",
            "                                                                                                  \n",
            " leaky_re_lu_37 (LeakyReLU)     (None, 4, 4, 512)    0           ['conv2d_58[0][0]']              \n",
            "                                                                                                  \n",
            " instance_normalization_48 (Ins  (None, 4, 4, 512)   2           ['leaky_re_lu_37[0][0]']         \n",
            " tanceNormalization)                                                                              \n",
            "                                                                                                  \n",
            " conv2d_59 (Conv2D)             (None, 2, 2, 512)    4194816     ['instance_normalization_48[0][0]\n",
            "                                                                 ']                               \n",
            "                                                                                                  \n",
            " leaky_re_lu_38 (LeakyReLU)     (None, 2, 2, 512)    0           ['conv2d_59[0][0]']              \n",
            "                                                                                                  \n",
            " instance_normalization_49 (Ins  (None, 2, 2, 512)   2           ['leaky_re_lu_38[0][0]']         \n",
            " tanceNormalization)                                                                              \n",
            "                                                                                                  \n",
            " conv2d_60 (Conv2D)             (None, 1, 1, 512)    4194816     ['instance_normalization_49[0][0]\n",
            "                                                                 ']                               \n",
            "                                                                                                  \n",
            " leaky_re_lu_39 (LeakyReLU)     (None, 1, 1, 512)    0           ['conv2d_60[0][0]']              \n",
            "                                                                                                  \n",
            " instance_normalization_50 (Ins  (None, 1, 1, 512)   2           ['leaky_re_lu_39[0][0]']         \n",
            " tanceNormalization)                                                                              \n",
            "                                                                                                  \n",
            " up_sampling2d_21 (UpSampling2D  (None, 2, 2, 512)   0           ['instance_normalization_50[0][0]\n",
            " )                                                               ']                               \n",
            "                                                                                                  \n",
            " conv2d_61 (Conv2D)             (None, 2, 2, 512)    4194816     ['up_sampling2d_21[0][0]']       \n",
            "                                                                                                  \n",
            " dropout_9 (Dropout)            (None, 2, 2, 512)    0           ['conv2d_61[0][0]']              \n",
            "                                                                                                  \n",
            " instance_normalization_51 (Ins  (None, 2, 2, 512)   2           ['dropout_9[0][0]']              \n",
            " tanceNormalization)                                                                              \n",
            "                                                                                                  \n",
            " concatenate_21 (Concatenate)   (None, 2, 2, 1024)   0           ['instance_normalization_51[0][0]\n",
            "                                                                 ',                               \n",
            "                                                                  'instance_normalization_49[0][0]\n",
            "                                                                 ']                               \n",
            "                                                                                                  \n",
            " up_sampling2d_22 (UpSampling2D  (None, 4, 4, 1024)  0           ['concatenate_21[0][0]']         \n",
            " )                                                                                                \n",
            "                                                                                                  \n",
            " conv2d_62 (Conv2D)             (None, 4, 4, 512)    8389120     ['up_sampling2d_22[0][0]']       \n",
            "                                                                                                  \n",
            " dropout_10 (Dropout)           (None, 4, 4, 512)    0           ['conv2d_62[0][0]']              \n",
            "                                                                                                  \n",
            " instance_normalization_52 (Ins  (None, 4, 4, 512)   2           ['dropout_10[0][0]']             \n",
            " tanceNormalization)                                                                              \n",
            "                                                                                                  \n",
            " concatenate_22 (Concatenate)   (None, 4, 4, 1024)   0           ['instance_normalization_52[0][0]\n",
            "                                                                 ',                               \n",
            "                                                                  'instance_normalization_48[0][0]\n",
            "                                                                 ']                               \n",
            "                                                                                                  \n",
            " up_sampling2d_23 (UpSampling2D  (None, 8, 8, 1024)  0           ['concatenate_22[0][0]']         \n",
            " )                                                                                                \n",
            "                                                                                                  \n",
            " conv2d_63 (Conv2D)             (None, 8, 8, 512)    8389120     ['up_sampling2d_23[0][0]']       \n",
            "                                                                                                  \n",
            " dropout_11 (Dropout)           (None, 8, 8, 512)    0           ['conv2d_63[0][0]']              \n",
            "                                                                                                  \n",
            " instance_normalization_53 (Ins  (None, 8, 8, 512)   2           ['dropout_11[0][0]']             \n",
            " tanceNormalization)                                                                              \n",
            "                                                                                                  \n",
            " concatenate_23 (Concatenate)   (None, 8, 8, 1024)   0           ['instance_normalization_53[0][0]\n",
            "                                                                 ',                               \n",
            "                                                                  'instance_normalization_47[0][0]\n",
            "                                                                 ']                               \n",
            "                                                                                                  \n",
            " up_sampling2d_24 (UpSampling2D  (None, 16, 16, 1024  0          ['concatenate_23[0][0]']         \n",
            " )                              )                                                                 \n",
            "                                                                                                  \n",
            " conv2d_64 (Conv2D)             (None, 16, 16, 256)  4194560     ['up_sampling2d_24[0][0]']       \n",
            "                                                                                                  \n",
            " instance_normalization_54 (Ins  (None, 16, 16, 256)  2          ['conv2d_64[0][0]']              \n",
            " tanceNormalization)                                                                              \n",
            "                                                                                                  \n",
            " concatenate_24 (Concatenate)   (None, 16, 16, 512)  0           ['instance_normalization_54[0][0]\n",
            "                                                                 ',                               \n",
            "                                                                  'instance_normalization_46[0][0]\n",
            "                                                                 ']                               \n",
            "                                                                                                  \n",
            " up_sampling2d_25 (UpSampling2D  (None, 32, 32, 512)  0          ['concatenate_24[0][0]']         \n",
            " )                                                                                                \n",
            "                                                                                                  \n",
            " conv2d_65 (Conv2D)             (None, 32, 32, 128)  1048704     ['up_sampling2d_25[0][0]']       \n",
            "                                                                                                  \n",
            " instance_normalization_55 (Ins  (None, 32, 32, 128)  2          ['conv2d_65[0][0]']              \n",
            " tanceNormalization)                                                                              \n",
            "                                                                                                  \n",
            " concatenate_25 (Concatenate)   (None, 32, 32, 256)  0           ['instance_normalization_55[0][0]\n",
            "                                                                 ',                               \n",
            "                                                                  'instance_normalization_45[0][0]\n",
            "                                                                 ']                               \n",
            "                                                                                                  \n",
            " up_sampling2d_26 (UpSampling2D  (None, 64, 64, 256)  0          ['concatenate_25[0][0]']         \n",
            " )                                                                                                \n",
            "                                                                                                  \n",
            " conv2d_66 (Conv2D)             (None, 64, 64, 64)   262208      ['up_sampling2d_26[0][0]']       \n",
            "                                                                                                  \n",
            " instance_normalization_56 (Ins  (None, 64, 64, 64)  2           ['conv2d_66[0][0]']              \n",
            " tanceNormalization)                                                                              \n",
            "                                                                                                  \n",
            " concatenate_26 (Concatenate)   (None, 64, 64, 128)  0           ['instance_normalization_56[0][0]\n",
            "                                                                 ',                               \n",
            "                                                                  'leaky_re_lu_33[0][0]']         \n",
            "                                                                                                  \n",
            " up_sampling2d_27 (UpSampling2D  (None, 128, 128, 12  0          ['concatenate_26[0][0]']         \n",
            " )                              8)                                                                \n",
            "                                                                                                  \n",
            " conv2d_67 (Conv2D)             (None, 128, 128, 1)  2049        ['up_sampling2d_27[0][0]']       \n",
            "                                                                                                  \n",
            "==================================================================================================\n",
            "Total params: 41,819,545\n",
            "Trainable params: 41,819,545\n",
            "Non-trainable params: 0\n",
            "__________________________________________________________________________________________________\n"
          ]
        }
      ]
    },
    {
      "cell_type": "code",
      "source": [
        "d_model.summary()"
      ],
      "metadata": {
        "colab": {
          "base_uri": "https://localhost:8080/"
        },
        "id": "THhBLewjgMeF",
        "outputId": "e412155d-f397-4f4a-f02a-79e2c13f80ea"
      },
      "execution_count": 39,
      "outputs": [
        {
          "output_type": "stream",
          "name": "stdout",
          "text": [
            "Model: \"discriminator\"\n",
            "__________________________________________________________________________________________________\n",
            " Layer (type)                Output Shape                 Param #   Connected to                  \n",
            "==================================================================================================\n",
            " input_9 (InputLayer)        [(None, 128, 128, 1)]        0         []                            \n",
            "                                                                                                  \n",
            " input_10 (InputLayer)       [(None, 128, 128, 1)]        0         []                            \n",
            "                                                                                                  \n",
            " concatenate_19 (Concatenat  (None, 128, 128, 2)          0         ['input_9[0][0]',             \n",
            " e)                                                                  'input_10[0][0]']            \n",
            "                                                                                                  \n",
            " conv2d_46 (Conv2D)          (None, 64, 64, 64)           2112      ['concatenate_19[0][0]']      \n",
            "                                                                                                  \n",
            " leaky_re_lu_25 (LeakyReLU)  (None, 64, 64, 64)           0         ['conv2d_46[0][0]']           \n",
            "                                                                                                  \n",
            " conv2d_49 (Conv2D)          (None, 32, 32, 512)          524800    ['leaky_re_lu_25[0][0]']      \n",
            "                                                                                                  \n",
            " leaky_re_lu_28 (LeakyReLU)  (None, 32, 32, 512)          0         ['conv2d_49[0][0]']           \n",
            "                                                                                                  \n",
            " instance_normalization_41   (None, 32, 32, 512)          2         ['leaky_re_lu_28[0][0]']      \n",
            " (InstanceNormalization)                                                                          \n",
            "                                                                                                  \n",
            " OLOLO (Conv2D)              (None, 32, 32, 1)            8193      ['instance_normalization_41[0]\n",
            "                                                                    [0]']                         \n",
            "                                                                                                  \n",
            "==================================================================================================\n",
            "Total params: 535107 (2.04 MB)\n",
            "Trainable params: 0 (0.00 Byte)\n",
            "Non-trainable params: 535107 (2.04 MB)\n",
            "__________________________________________________________________________________________________\n"
          ]
        }
      ]
    }
  ],
  "metadata": {
    "accelerator": "TPU",
    "colab": {
      "provenance": []
    },
    "kernelspec": {
      "display_name": "Python 3",
      "name": "python3"
    },
    "language_info": {
      "codemirror_mode": {
        "name": "ipython",
        "version": 3
      },
      "file_extension": ".py",
      "mimetype": "text/x-python",
      "name": "python",
      "nbconvert_exporter": "python",
      "pygments_lexer": "ipython3",
      "version": "3.6.7"
    }
  },
  "nbformat": 4,
  "nbformat_minor": 0
}